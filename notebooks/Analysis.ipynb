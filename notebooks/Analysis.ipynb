{
 "cells": [
  {
   "cell_type": "code",
   "execution_count": 1,
   "metadata": {},
   "outputs": [],
   "source": [
    "import pandas as pd\n"
   ]
  },
  {
   "cell_type": "code",
   "execution_count": 2,
   "metadata": {},
   "outputs": [
    {
     "name": "stdout",
     "output_type": "stream",
     "text": [
      "         2010  6   1  10  50  9.14  22.69  -1.42  -88  1.1    0  6.74e-04\n",
      "0        2010  6   1  10  51  9.13  22.69  -1.43  -92    1  0.0  0.000765\n",
      "1        2010  6   1  10  52  9.03   22.7  -1.44  -94    1  0.0  0.000699\n",
      "2        2010  6   1  10  53  9.02   22.7  -1.45  -95    1  0.0  0.000786\n",
      "3        2010  6   1  10  54  9.06  22.71  -1.46  -93    1  0.0  0.000748\n",
      "4        2010  6   1  10  55  8.95  22.72  -1.48  -96    1  0.0  0.000933\n",
      "...       ... ..  ..  ..  ..   ...    ...    ...  ...  ...  ...       ...\n",
      "1659509  2018  2  28  14  56  9.87  23.44  -8.84  -94    2  2.0  0.001020\n",
      "1659510  2018  2  28  14  57  9.93  23.45  -8.85  -90    2  2.0  0.001040\n",
      "1659511  2018  2  28  14  58  9.96  23.45  -8.85 -100    2  2.0  0.001070\n",
      "1659512  2018  2  28  14  59  9.92  23.46  -8.85 -111    2  2.0  0.001050\n",
      "1659513  2018  2  28  15   0  9.98  23.46  -8.86 -120    1  2.0  0.001070\n",
      "\n",
      "[1659514 rows x 12 columns]\n"
     ]
    },
    {
     "name": "stderr",
     "output_type": "stream",
     "text": [
      "/Library/Frameworks/Python.framework/Versions/3.6/lib/python3.6/site-packages/IPython/core/interactiveshell.py:3058: DtypeWarning: Columns (6) have mixed types. Specify dtype option on import or set low_memory=False.\n",
      "  interactivity=interactivity, compiler=compiler, result=result)\n"
     ]
    }
   ],
   "source": [
    "#Importing data into dataframe\n",
    "\n",
    "df = pd.read_csv('../data/raw/fff_Bw_1min.dat', delim_whitespace=True)\n",
    "\n",
    "print(df)"
   ]
  },
  {
   "cell_type": "code",
   "execution_count": 3,
   "metadata": {},
   "outputs": [
    {
     "data": {
      "text/html": [
       "<div>\n",
       "<style scoped>\n",
       "    .dataframe tbody tr th:only-of-type {\n",
       "        vertical-align: middle;\n",
       "    }\n",
       "\n",
       "    .dataframe tbody tr th {\n",
       "        vertical-align: top;\n",
       "    }\n",
       "\n",
       "    .dataframe thead th {\n",
       "        text-align: right;\n",
       "    }\n",
       "</style>\n",
       "<table border=\"1\" class=\"dataframe\">\n",
       "  <thead>\n",
       "    <tr style=\"text-align: right;\">\n",
       "      <th></th>\n",
       "      <th>year</th>\n",
       "      <th>month</th>\n",
       "      <th>day</th>\n",
       "      <th>hour</th>\n",
       "      <th>minute</th>\n",
       "      <th>L</th>\n",
       "      <th>MLT</th>\n",
       "      <th>MLAT</th>\n",
       "      <th>AL Index</th>\n",
       "      <th>KP Index</th>\n",
       "      <th>Satellite Flag</th>\n",
       "      <th>B</th>\n",
       "    </tr>\n",
       "  </thead>\n",
       "  <tbody>\n",
       "    <tr>\n",
       "      <td>0</td>\n",
       "      <td>2010</td>\n",
       "      <td>6</td>\n",
       "      <td>1</td>\n",
       "      <td>10</td>\n",
       "      <td>51</td>\n",
       "      <td>9.13</td>\n",
       "      <td>22.69</td>\n",
       "      <td>-1.43</td>\n",
       "      <td>-92</td>\n",
       "      <td>1</td>\n",
       "      <td>0.0</td>\n",
       "      <td>0.000765</td>\n",
       "    </tr>\n",
       "    <tr>\n",
       "      <td>1</td>\n",
       "      <td>2010</td>\n",
       "      <td>6</td>\n",
       "      <td>1</td>\n",
       "      <td>10</td>\n",
       "      <td>52</td>\n",
       "      <td>9.03</td>\n",
       "      <td>22.7</td>\n",
       "      <td>-1.44</td>\n",
       "      <td>-94</td>\n",
       "      <td>1</td>\n",
       "      <td>0.0</td>\n",
       "      <td>0.000699</td>\n",
       "    </tr>\n",
       "    <tr>\n",
       "      <td>2</td>\n",
       "      <td>2010</td>\n",
       "      <td>6</td>\n",
       "      <td>1</td>\n",
       "      <td>10</td>\n",
       "      <td>53</td>\n",
       "      <td>9.02</td>\n",
       "      <td>22.7</td>\n",
       "      <td>-1.45</td>\n",
       "      <td>-95</td>\n",
       "      <td>1</td>\n",
       "      <td>0.0</td>\n",
       "      <td>0.000786</td>\n",
       "    </tr>\n",
       "    <tr>\n",
       "      <td>3</td>\n",
       "      <td>2010</td>\n",
       "      <td>6</td>\n",
       "      <td>1</td>\n",
       "      <td>10</td>\n",
       "      <td>54</td>\n",
       "      <td>9.06</td>\n",
       "      <td>22.71</td>\n",
       "      <td>-1.46</td>\n",
       "      <td>-93</td>\n",
       "      <td>1</td>\n",
       "      <td>0.0</td>\n",
       "      <td>0.000748</td>\n",
       "    </tr>\n",
       "    <tr>\n",
       "      <td>4</td>\n",
       "      <td>2010</td>\n",
       "      <td>6</td>\n",
       "      <td>1</td>\n",
       "      <td>10</td>\n",
       "      <td>55</td>\n",
       "      <td>8.95</td>\n",
       "      <td>22.72</td>\n",
       "      <td>-1.48</td>\n",
       "      <td>-96</td>\n",
       "      <td>1</td>\n",
       "      <td>0.0</td>\n",
       "      <td>0.000933</td>\n",
       "    </tr>\n",
       "  </tbody>\n",
       "</table>\n",
       "</div>"
      ],
      "text/plain": [
       "   year  month  day  hour  minute     L    MLT  MLAT  AL Index  KP Index  \\\n",
       "0  2010      6    1    10      51  9.13  22.69 -1.43       -92         1   \n",
       "1  2010      6    1    10      52  9.03   22.7 -1.44       -94         1   \n",
       "2  2010      6    1    10      53  9.02   22.7 -1.45       -95         1   \n",
       "3  2010      6    1    10      54  9.06  22.71 -1.46       -93         1   \n",
       "4  2010      6    1    10      55  8.95  22.72 -1.48       -96         1   \n",
       "\n",
       "   Satellite Flag         B  \n",
       "0             0.0  0.000765  \n",
       "1             0.0  0.000699  \n",
       "2             0.0  0.000786  \n",
       "3             0.0  0.000748  \n",
       "4             0.0  0.000933  "
      ]
     },
     "execution_count": 3,
     "metadata": {},
     "output_type": "execute_result"
    }
   ],
   "source": [
    "#Adding column names to dataframe\n",
    "\n",
    "df.columns = ['year', 'month', 'day', 'hour', 'minute', 'L', 'MLT', 'MLAT', 'AL Index', 'KP Index', 'Satellite Flag', 'B']\n",
    "\n",
    "df.head()"
   ]
  },
  {
   "cell_type": "code",
   "execution_count": 4,
   "metadata": {},
   "outputs": [
    {
     "name": "stdout",
     "output_type": "stream",
     "text": [
      "Colunm Name :  year\n",
      "Column Contents :  [2010 2010 2010 ... 2018 2018 2018]\n",
      "Unique Values : [2010 2011 2012 2013 2014 2015 2016 2017 2018]\n",
      "\n",
      "\n",
      "\n",
      "Colunm Name :  month\n",
      "Column Contents :  [6 6 6 ... 2 2 2]\n",
      "Unique Values : [ 6  7  8  9 10 11 12  1  2  3  4  5]\n",
      "\n",
      "\n",
      "\n",
      "Colunm Name :  day\n",
      "Column Contents :  [ 1  1  1 ... 28 28 28]\n",
      "Unique Values : [ 1  2  3  4  5  6  7 14 25  9 11 16 18 19 20 24 17 10 22 26 28 30 21 27\n",
      " 31 13 23  8 12 15 29]\n",
      "\n",
      "\n",
      "\n",
      "Colunm Name :  hour\n",
      "Column Contents :  [10 10 10 ... 14 14 15]\n",
      "Unique Values : [10 11 12 13 14  9 16 17 18 19 20  8  6 15  5  7 21 22 23  0  1  2  3  4]\n",
      "\n",
      "\n",
      "\n",
      "Colunm Name :  minute\n",
      "Column Contents :  [51 52 53 ... 58 59  0]\n",
      "Unique Values : [51 52 53 54 55 56 57 58 59  0  1  2  3  4  5  6  7  8  9 10 11 12 13 14\n",
      " 15 16 17 18 19 20 21 22 23 24 25 26 27 28 29 30 31 32 33 34 35 36 37 38\n",
      " 39 40 41 42 43 44 45 46 47 48 49 50]\n",
      "\n",
      "\n",
      "\n",
      "Colunm Name :  L\n",
      "Column Contents :  [9.13 9.03 9.02 ... 9.96 9.92 9.98]\n",
      "Unique Values : [ 9.13  9.03  9.02  9.06  8.95  8.93  8.9   8.87  8.86  8.82  8.79  8.75\n",
      "  8.7   8.71  8.65  8.63  8.61  8.59  8.54  8.51  8.49  8.43  8.4   8.36\n",
      "  8.31  8.33  8.27  8.24  8.19  8.15  8.12  8.05  8.06  8.04  7.99  7.95\n",
      "  7.93  7.9   7.88  7.86  7.83  7.81  7.78  7.73  7.74  7.71  7.65  7.62\n",
      "  7.6   7.59  7.55  7.54  7.49  7.47  7.48  7.39  7.4   7.43  7.33  7.31\n",
      "  7.34  7.27  7.28  7.22  7.24  7.2   7.17  7.14  7.15  7.11  7.07  7.06\n",
      "  6.99  7.03  6.97  6.92  6.95  6.89  6.85  6.86  6.83  6.82  6.78  6.72\n",
      "  6.74  6.68  6.66  6.64  6.63  6.62  6.56  6.57  6.5   6.51  6.46  6.45\n",
      "  6.44  6.41  6.4   6.38  6.33  6.32  6.26  6.25  6.22  6.17  6.19  6.15\n",
      "  6.13  6.08  6.1   6.06  6.02  6.01  5.97  5.94  5.89  5.86  5.83  5.82\n",
      "  5.81  5.78  5.74  5.72  5.7   5.69  5.66  5.65  5.61  5.6   5.57  5.55\n",
      "  5.51  5.48  5.46  5.42  5.41  5.39  5.38  5.36  5.32  5.31  5.27  5.26\n",
      "  5.21  5.22  5.2   5.16  5.13  5.1   5.06  5.04  5.01  4.98  4.94  4.93\n",
      "  4.89  4.88  4.84  4.83  4.79  4.77  4.75  4.73  4.69  4.68  4.66  4.64\n",
      "  4.6   4.59  4.53  4.55  4.5   4.49  4.44  4.41  4.37  4.35  4.32  4.3\n",
      "  4.28  4.24  4.21  9.05  8.96  8.84  8.83  8.73  8.67  8.64  8.6   8.56\n",
      "  8.5   8.47  8.44  8.41  8.37  8.35  8.26  8.29  8.18  8.13  8.08  8.\n",
      "  7.98  7.94  7.87  7.84  7.8   7.76  7.69  7.64  7.63  7.57  7.52  7.51\n",
      "  7.46  7.45  7.41  7.3   7.23  7.19  7.09  7.01  6.94  6.9   6.88  6.87\n",
      "  6.81  6.77  6.75  6.67  6.59  6.54  6.52  6.49  6.48  6.47  6.42  6.28\n",
      "  6.27  6.23  6.18  6.2   6.11  6.07  6.04  6.05  5.92  5.87  5.85  5.73\n",
      "  5.67  5.64  5.59  5.56  5.52  5.49  5.44  5.43  5.4   5.35  5.34  5.29\n",
      "  5.24  5.17  5.15  5.11  5.08  5.05  5.03  4.99  4.95  4.92  4.86  4.82\n",
      "  4.74  4.72  4.7   4.67  4.65  4.61  4.57  8.89  8.8   8.74  8.72  8.69\n",
      "  8.55  8.52  8.48  8.46  8.25  8.21  8.1   8.09  7.77  7.79  7.75  7.7\n",
      "  7.58  7.5   7.42  7.36  7.18  7.12  7.05  7.04  6.96  6.91  6.76  6.73\n",
      "  6.7   6.71  6.61  6.58  6.39  6.35  6.29  6.3   6.24  6.14  5.99  5.95\n",
      "  5.93  5.9   5.88  5.84  5.77  5.75  5.68  5.53  5.3   5.28  5.23  5.18\n",
      "  5.12  5.09  5.02  5.    4.96  4.91  4.87  4.81  4.78  4.71  4.63  4.56\n",
      "  4.52  4.48  4.47  4.43  4.42  4.38  4.36  4.34  4.29  4.25  4.23  4.2\n",
      "  4.17  4.16  4.13  4.1   4.07  4.05  4.01  4.    3.96  3.93  3.92  3.88\n",
      "  3.86  8.97  8.94  8.85  8.77  8.66  8.58  8.3   8.22  8.07  8.03  8.01\n",
      "  7.92  7.91  7.89  7.82  7.72  7.35  7.29  7.32  7.25  7.1   7.13  7.08\n",
      "  6.98  6.93  6.69  6.65  6.43  6.36  6.31  6.12  5.96  5.79  5.71  5.63\n",
      "  5.58  5.54  5.45  5.25  4.97  4.8   4.76  4.46  4.22  4.19  4.15  4.02\n",
      "  3.94  3.91  3.87  8.78  8.62  8.45  8.14  8.02  7.66  7.    6.84  6.8\n",
      "  6.6   6.53  6.34  6.09  6.03  5.8   5.47  4.85  4.54  4.51  4.4   4.39\n",
      "  4.26  9.01  8.99  8.88  8.76  8.17  8.16  7.85  7.67  7.68  7.44  7.37\n",
      "  6.79  6.55  6.37  6.16  5.98  5.91  5.37  5.19  5.14  4.33  8.98  8.68\n",
      "  8.53  8.42  8.38  7.97  7.96  5.5   5.33  4.9   9.29  9.21  9.19  9.18\n",
      "  9.11  9.08  9.07  9.04  8.91  8.81  8.34  8.28  8.11  7.53  7.26  7.16\n",
      "  6.    5.62  8.23  7.61  7.38  6.21  7.21  8.2   8.57  8.39  7.56  7.02\n",
      "  8.32  5.76  8.92  9.09  9.1   9.15  9.14  9.16  9.17  9.23  9.2   9.24\n",
      "  9.26  9.28  9.31  9.3   9.33  9.36  9.34  9.35  9.4   9.32  9.38  9.39\n",
      "  9.    9.12  9.22  9.27  9.43  9.44  9.41  9.46  9.48  9.25  9.37  9.45\n",
      "  9.49  9.5   9.56  9.53  9.6   9.51  9.61  9.59  9.63  9.64  9.62  9.67\n",
      "  9.66  9.65  9.69  9.71  9.72  9.7   9.75  9.78  9.79  9.77  9.8   9.74\n",
      "  9.82  9.84  9.86  9.76  9.87  9.9   9.85  9.83  9.89  9.88  9.92  9.95\n",
      "  9.91  9.52  9.42  9.54  9.47  9.55  9.57  9.68  9.73  9.81  9.58  5.07\n",
      "  3.22  3.24  3.08  3.11  3.14  3.17  3.21  3.26  3.3   3.33  3.36  3.39\n",
      "  3.42  3.46  3.49  3.52  3.54  3.58  3.61  3.63  3.67  3.7   3.73  3.76\n",
      "  3.78  3.81  3.85  3.9   3.98  4.11  4.62  9.97  9.94  4.58 10.    9.98\n",
      "  9.93 10.1   9.99  4.45  4.18  4.27  4.14  3.97  3.83  3.8   3.75  3.71\n",
      "  3.68  3.66  3.62  4.08  4.03  3.99  3.95  3.77  3.65  3.38  3.34  3.32\n",
      "  3.28  3.18  3.16  3.12  3.02  2.99  2.95  2.92  4.06  3.79  4.12  3.89\n",
      "  3.6   4.31  4.09  3.82  9.96  3.84  3.72  3.57  3.55  3.51  3.48  3.45\n",
      "  3.74  3.69  3.64  3.59  3.53  3.5   3.47  3.43  3.4   3.37  4.04  3.56\n",
      "  3.27  3.41  3.35  3.31  3.15  3.25  3.19  3.23  3.2   3.1   3.07  2.96\n",
      "  2.93  3.44  2.97  2.94  3.01  3.06  3.04  3.29  3.03  3.    3.05  3.09\n",
      "  2.98  3.13 10.2  10.3  10.4 ]\n",
      "\n",
      "\n",
      "\n",
      "Colunm Name :  MLT\n",
      "Column Contents :  [22.69 22.7 22.7 ... '23.45' '23.46' '23.46']\n",
      "Unique Values : [22.69 22.7 22.71 ... '22.85-12.11' '22.86-12.11' '22.87-12.10']\n",
      "\n",
      "\n",
      "\n",
      "Colunm Name :  MLAT\n",
      "Column Contents :  [-1.43 -1.44 -1.45 ... -8.85 -8.85 -8.86]\n",
      "Unique Values : [  -1.43   -1.44   -1.45 ... -919.   -929.     23.  ]\n",
      "\n",
      "\n",
      "\n",
      "Colunm Name :  AL Index\n",
      "Column Contents :  [ -92  -94  -95 ... -100 -111 -120]\n",
      "Unique Values : [  -92   -94   -95 ... -1140 -1236 -1168]\n",
      "\n",
      "\n",
      "\n",
      "Colunm Name :  KP Index\n",
      "Column Contents :  [1 1 1 ... 2 2 1]\n",
      "Unique Values : [1 2 3 0 4 5 6 7 8]\n",
      "\n",
      "\n",
      "\n",
      "Colunm Name :  Satellite Flag\n",
      "Column Contents :  [0. 0. 0. ... 2. 2. 2.]\n",
      "Unique Values : [0.    1.    2.    ... 0.17  0.085 0.263]\n",
      "\n",
      "\n",
      "\n",
      "Colunm Name :  B\n",
      "Column Contents :  [0.000765 0.000699 0.000786 ... 0.00107  0.00105  0.00107 ]\n",
      "Unique Values : [0.000765 0.000699 0.000786 ... 0.282    0.402    0.306   ]\n",
      "\n",
      "\n",
      "\n"
     ]
    }
   ],
   "source": [
    "#Getting information about the data\n",
    "\n",
    "for (columnName, columnData) in df.iteritems():\n",
    "    print('Colunm Name : ', columnName)\n",
    "    print('Column Contents : ', columnData.values)\n",
    "    print('Unique Values :', columnData.unique())\n",
    "    print(\"\\n\\n\")\n",
    "    "
   ]
  },
  {
   "cell_type": "code",
   "execution_count": 5,
   "metadata": {},
   "outputs": [
    {
     "name": "stdout",
     "output_type": "stream",
     "text": [
      "\n",
      " Null Value counts :\n"
     ]
    },
    {
     "data": {
      "text/plain": [
       "year                   0\n",
       "month                  0\n",
       "day                    0\n",
       "hour                   0\n",
       "minute                 0\n",
       "L                      0\n",
       "MLT                    0\n",
       "MLAT                   0\n",
       "AL Index               0\n",
       "KP Index               0\n",
       "Satellite Flag         0\n",
       "B                 255752\n",
       "dtype: int64"
      ]
     },
     "execution_count": 5,
     "metadata": {},
     "output_type": "execute_result"
    }
   ],
   "source": [
    "#Find missing and NaN values\n",
    "\n",
    "print(\"\\n Null Value counts :\")\n",
    "df.isnull().sum()"
   ]
  },
  {
   "cell_type": "code",
   "execution_count": 6,
   "metadata": {},
   "outputs": [
    {
     "name": "stdout",
     "output_type": "stream",
     "text": [
      "\n",
      " NaN Value counts :\n"
     ]
    },
    {
     "data": {
      "text/plain": [
       "year                   0\n",
       "month                  0\n",
       "day                    0\n",
       "hour                   0\n",
       "minute                 0\n",
       "L                      0\n",
       "MLT                    0\n",
       "MLAT                   0\n",
       "AL Index               0\n",
       "KP Index               0\n",
       "Satellite Flag         0\n",
       "B                 255752\n",
       "dtype: int64"
      ]
     },
     "execution_count": 6,
     "metadata": {},
     "output_type": "execute_result"
    }
   ],
   "source": [
    "print(\"\\n NaN Value counts :\")\n",
    "df.isna().sum()"
   ]
  },
  {
   "cell_type": "code",
   "execution_count": 7,
   "metadata": {},
   "outputs": [
    {
     "name": "stdout",
     "output_type": "stream",
     "text": [
      "\n",
      "Countplot of Year: \n",
      "AxesSubplot(0.125,0.11;0.775x0.77)\n"
     ]
    }
   ],
   "source": [
    "import seaborn as sns\n",
    "\n",
    "print(\"\\nCountplot of Year: \")\n",
    "year_countplot = sns.countplot(x = \"year\", data = df)\n",
    "print(year_countplot)"
   ]
  },
  {
   "cell_type": "code",
   "execution_count": 8,
   "metadata": {},
   "outputs": [
    {
     "name": "stdout",
     "output_type": "stream",
     "text": [
      "\n",
      "Countplot of Month: \n",
      "AxesSubplot(0.125,0.125;0.775x0.755)\n"
     ]
    },
    {
     "data": {
      "image/png": "[encoded data removed]",
      "text/plain": [
       "<Figure size 432x288 with 1 Axes>"
      ]
     },
     "metadata": {
      "needs_background": "light"
     },
     "output_type": "display_data"
    }
   ],
   "source": [
    "print(\"\\nCountplot of Month: \")\n",
    "month_countplot = sns.countplot(x = \"month\", data = df)\n",
    "print(month_countplot)"
   ]
  },
  {
   "cell_type": "code",
   "execution_count": 9,
   "metadata": {},
   "outputs": [],
   "source": [
    "# Converting year + month + day + hour + minute + second to datetime\n",
    "\n",
    "datetime = pd.to_datetime(df[['year', 'month', 'day', 'hour', 'minute']])"
   ]
  },
  {
   "cell_type": "code",
   "execution_count": 10,
   "metadata": {},
   "outputs": [
    {
     "name": "stdout",
     "output_type": "stream",
     "text": [
      "                   datetime  year  month  day  hour  minute     L    MLT  \\\n",
      "0       2010-06-01 10:51:00  2010      6    1    10      51  9.13  22.69   \n",
      "1       2010-06-01 10:52:00  2010      6    1    10      52  9.03   22.7   \n",
      "2       2010-06-01 10:53:00  2010      6    1    10      53  9.02   22.7   \n",
      "3       2010-06-01 10:54:00  2010      6    1    10      54  9.06  22.71   \n",
      "4       2010-06-01 10:55:00  2010      6    1    10      55  8.95  22.72   \n",
      "...                     ...   ...    ...  ...   ...     ...   ...    ...   \n",
      "1659509 2018-02-28 14:56:00  2018      2   28    14      56  9.87  23.44   \n",
      "1659510 2018-02-28 14:57:00  2018      2   28    14      57  9.93  23.45   \n",
      "1659511 2018-02-28 14:58:00  2018      2   28    14      58  9.96  23.45   \n",
      "1659512 2018-02-28 14:59:00  2018      2   28    14      59  9.92  23.46   \n",
      "1659513 2018-02-28 15:00:00  2018      2   28    15       0  9.98  23.46   \n",
      "\n",
      "         MLAT  AL Index  KP Index  Satellite Flag         B  \n",
      "0       -1.43       -92         1             0.0  0.000765  \n",
      "1       -1.44       -94         1             0.0  0.000699  \n",
      "2       -1.45       -95         1             0.0  0.000786  \n",
      "3       -1.46       -93         1             0.0  0.000748  \n",
      "4       -1.48       -96         1             0.0  0.000933  \n",
      "...       ...       ...       ...             ...       ...  \n",
      "1659509 -8.84       -94         2             2.0  0.001020  \n",
      "1659510 -8.85       -90         2             2.0  0.001040  \n",
      "1659511 -8.85      -100         2             2.0  0.001070  \n",
      "1659512 -8.85      -111         2             2.0  0.001050  \n",
      "1659513 -8.86      -120         1             2.0  0.001070  \n",
      "\n",
      "[1659514 rows x 13 columns]\n"
     ]
    }
   ],
   "source": [
    "# Adding datetime column to dataframe\n",
    "\n",
    "df.insert(0, \"datetime\", datetime, True)\n",
    "\n",
    "print(df)"
   ]
  },
  {
   "cell_type": "code",
   "execution_count": 11,
   "metadata": {},
   "outputs": [
    {
     "name": "stdout",
     "output_type": "stream",
     "text": [
      "                   datetime     L    MLT  MLAT         B\n",
      "0       2010-06-01 10:51:00  9.13  22.69 -1.43  0.000765\n",
      "1       2010-06-01 10:52:00  9.03   22.7 -1.44  0.000699\n",
      "2       2010-06-01 10:53:00  9.02   22.7 -1.45  0.000786\n",
      "3       2010-06-01 10:54:00  9.06  22.71 -1.46  0.000748\n",
      "4       2010-06-01 10:55:00  8.95  22.72 -1.48  0.000933\n",
      "...                     ...   ...    ...   ...       ...\n",
      "1659509 2018-02-28 14:56:00  9.87  23.44 -8.84  0.001020\n",
      "1659510 2018-02-28 14:57:00  9.93  23.45 -8.85  0.001040\n",
      "1659511 2018-02-28 14:58:00  9.96  23.45 -8.85  0.001070\n",
      "1659512 2018-02-28 14:59:00  9.92  23.46 -8.85  0.001050\n",
      "1659513 2018-02-28 15:00:00  9.98  23.46 -8.86  0.001070\n",
      "\n",
      "[1659514 rows x 5 columns]\n"
     ]
    }
   ],
   "source": [
    "# Dropping useless columns\n",
    "\n",
    "df = df.drop(['year', 'month', 'day', 'hour', 'minute', 'AL Index', 'KP Index', 'Satellite Flag'], axis=1)\n",
    "print(df)"
   ]
  },
  {
   "cell_type": "code",
   "execution_count": 17,
   "metadata": {},
   "outputs": [
    {
     "name": "stdout",
     "output_type": "stream",
     "text": [
      "                   datetime     L    MLT  MLAT         B\n",
      "0       2010-06-01 10:51:00  9.13  22.69 -1.43  0.000765\n",
      "1       2010-06-01 10:52:00  9.03   22.7 -1.44  0.000699\n",
      "2       2010-06-01 10:53:00  9.02   22.7 -1.45  0.000786\n",
      "3       2010-06-01 10:54:00  9.06  22.71 -1.46  0.000748\n",
      "4       2010-06-01 10:55:00  8.95  22.72 -1.48  0.000933\n",
      "...                     ...   ...    ...   ...       ...\n",
      "1659509 2018-02-28 14:56:00  9.87  23.44 -8.84  0.001020\n",
      "1659510 2018-02-28 14:57:00  9.93  23.45 -8.85  0.001040\n",
      "1659511 2018-02-28 14:58:00  9.96  23.45 -8.85  0.001070\n",
      "1659512 2018-02-28 14:59:00  9.92  23.46 -8.85  0.001050\n",
      "1659513 2018-02-28 15:00:00  9.98  23.46 -8.86  0.001070\n",
      "\n",
      "[1403762 rows x 5 columns]\n"
     ]
    }
   ],
   "source": [
    "#Dropping NaN values\n",
    "df = df.dropna()\n",
    "print(df)"
   ]
  },
  {
   "cell_type": "code",
   "execution_count": 27,
   "metadata": {},
   "outputs": [
    {
     "data": {
      "image/png": "[encoded data removed]",
      "text/plain": [
       "<Figure size 432x288 with 1 Axes>"
      ]
     },
     "metadata": {
      "needs_background": "light"
     },
     "output_type": "display_data"
    }
   ],
   "source": [
    "import matplotlib.pyplot as plt\n",
    "B_box_plot = plt.boxplot(df['B'])"
   ]
  },
  {
   "cell_type": "code",
   "execution_count": 31,
   "metadata": {},
   "outputs": [
    {
     "name": "stdout",
     "output_type": "stream",
     "text": [
      "1563199    0.000121\n",
      "1297665    0.000136\n",
      "190729     0.000137\n",
      "190780     0.000142\n",
      "1535360    0.000145\n",
      "             ...   \n",
      "1497237    0.453000\n",
      "1563198    0.457000\n",
      "1007664    0.473000\n",
      "1271061    0.479000\n",
      "1037340    0.486000\n",
      "Name: B, Length: 1403762, dtype: float64\n"
     ]
    }
   ],
   "source": [
    "df_sorted = df.sort_values(by= 'B')\n",
    "B_sorted = df_sorted['B']\n",
    "print(B_sorted)"
   ]
  },
  {
   "cell_type": "code",
   "execution_count": 34,
   "metadata": {},
   "outputs": [
    {
     "data": {
      "text/plain": [
       "(array([773., 580., 416., 398., 331., 198., 195., 143., 127., 101.,  78.,\n",
       "         67.,  53.,  55.,  30.,  26.,  27.,  27.,  22.,   7.,  12.,   5.,\n",
       "          6.,  12.,   8.,   9.,   6.,   6.,   3.,   1.,   3.,   7.,   4.,\n",
       "          1.,   3.,   1.,   5.,   2.,   1.,   1.,   1.,   2.,   1.,   1.,\n",
       "          2.,   2.,   0.,   0.,   1.,   2.]),\n",
       " array([0.125  , 0.13222, 0.13944, 0.14666, 0.15388, 0.1611 , 0.16832,\n",
       "        0.17554, 0.18276, 0.18998, 0.1972 , 0.20442, 0.21164, 0.21886,\n",
       "        0.22608, 0.2333 , 0.24052, 0.24774, 0.25496, 0.26218, 0.2694 ,\n",
       "        0.27662, 0.28384, 0.29106, 0.29828, 0.3055 , 0.31272, 0.31994,\n",
       "        0.32716, 0.33438, 0.3416 , 0.34882, 0.35604, 0.36326, 0.37048,\n",
       "        0.3777 , 0.38492, 0.39214, 0.39936, 0.40658, 0.4138 , 0.42102,\n",
       "        0.42824, 0.43546, 0.44268, 0.4499 , 0.45712, 0.46434, 0.47156,\n",
       "        0.47878, 0.486  ]),\n",
       " <a list of 50 Patch objects>)"
      ]
     },
     "execution_count": 34,
     "metadata": {},
     "output_type": "execute_result"
    },
    {
     "data": {
      "image/png": "[encoded data removed]",
      "text/plain": [
       "<Figure size 432x288 with 1 Axes>"
      ]
     },
     "metadata": {
      "needs_background": "light"
     },
     "output_type": "display_data"
    }
   ],
   "source": [
    "plt.hist(B_sorted[1400000:1403762], bins=50)"
   ]
  },
  {
   "cell_type": "code",
   "execution_count": null,
   "metadata": {},
   "outputs": [],
   "source": []
  }
 ],
 "metadata": {
  "kernelspec": {
   "display_name": "Python 3",
   "language": "python",
   "name": "python3"
  },
  "language_info": {
   "codemirror_mode": {
    "name": "ipython",
    "version": 3
   },
   "file_extension": ".py",
   "mimetype": "text/x-python",
   "name": "python",
   "nbconvert_exporter": "python",
   "pygments_lexer": "ipython3",
   "version": "3.6.8"
  }
 },
 "nbformat": 4,
 "nbformat_minor": 4
}

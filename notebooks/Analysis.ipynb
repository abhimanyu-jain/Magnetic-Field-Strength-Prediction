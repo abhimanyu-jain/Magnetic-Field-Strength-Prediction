{
 "cells": [
  {
   "cell_type": "code",
   "execution_count": 2,
   "metadata": {},
   "outputs": [],
   "source": [
    "import pandas as pd\n",
    "from sklearn.model_selection import train_test_split\n",
    "import numpy as np"
   ]
  },
  {
   "cell_type": "code",
   "execution_count": 5,
   "metadata": {
    "scrolled": false
   },
   "outputs": [
    {
     "name": "stdout",
     "output_type": "stream",
     "text": [
      "         2010  6   1  10  50  9.14  22.69  -1.42  -88  1.1    0  6.74e-04\n",
      "0        2010  6   1  10  51  9.13  22.69  -1.43  -92    1  0.0  0.000765\n",
      "1        2010  6   1  10  52  9.03   22.7  -1.44  -94    1  0.0  0.000699\n",
      "2        2010  6   1  10  53  9.02   22.7  -1.45  -95    1  0.0  0.000786\n",
      "3        2010  6   1  10  54  9.06  22.71  -1.46  -93    1  0.0  0.000748\n",
      "4        2010  6   1  10  55  8.95  22.72  -1.48  -96    1  0.0  0.000933\n",
      "...       ... ..  ..  ..  ..   ...    ...    ...  ...  ...  ...       ...\n",
      "1659509  2018  2  28  14  56  9.87  23.44  -8.84  -94    2  2.0  0.001020\n",
      "1659510  2018  2  28  14  57  9.93  23.45  -8.85  -90    2  2.0  0.001040\n",
      "1659511  2018  2  28  14  58  9.96  23.45  -8.85 -100    2  2.0  0.001070\n",
      "1659512  2018  2  28  14  59  9.92  23.46  -8.85 -111    2  2.0  0.001050\n",
      "1659513  2018  2  28  15   0  9.98  23.46  -8.86 -120    1  2.0  0.001070\n",
      "\n",
      "[1659514 rows x 12 columns]\n"
     ]
    }
   ],
   "source": [
    "#Importing data into dataframe\n",
    "\n",
    "df = pd.read_csv('../data/raw/fff_Bw_1min.dat', delim_whitespace=True)\n",
    "\n",
    "print(df)"
   ]
  },
  {
   "cell_type": "code",
   "execution_count": 3,
   "metadata": {},
   "outputs": [
    {
     "data": {
      "text/html": [
       "<div>\n",
       "<style scoped>\n",
       "    .dataframe tbody tr th:only-of-type {\n",
       "        vertical-align: middle;\n",
       "    }\n",
       "\n",
       "    .dataframe tbody tr th {\n",
       "        vertical-align: top;\n",
       "    }\n",
       "\n",
       "    .dataframe thead th {\n",
       "        text-align: right;\n",
       "    }\n",
       "</style>\n",
       "<table border=\"1\" class=\"dataframe\">\n",
       "  <thead>\n",
       "    <tr style=\"text-align: right;\">\n",
       "      <th></th>\n",
       "      <th>year</th>\n",
       "      <th>month</th>\n",
       "      <th>day</th>\n",
       "      <th>hour</th>\n",
       "      <th>minute</th>\n",
       "      <th>L</th>\n",
       "      <th>MLT</th>\n",
       "      <th>MLAT</th>\n",
       "      <th>AL Index</th>\n",
       "      <th>KP Index</th>\n",
       "      <th>Satellite Flag</th>\n",
       "      <th>B</th>\n",
       "    </tr>\n",
       "  </thead>\n",
       "  <tbody>\n",
       "    <tr>\n",
       "      <td>0</td>\n",
       "      <td>2010</td>\n",
       "      <td>6</td>\n",
       "      <td>1</td>\n",
       "      <td>10</td>\n",
       "      <td>51</td>\n",
       "      <td>9.13</td>\n",
       "      <td>22.69</td>\n",
       "      <td>-1.43</td>\n",
       "      <td>-92</td>\n",
       "      <td>1</td>\n",
       "      <td>0.0</td>\n",
       "      <td>0.000765</td>\n",
       "    </tr>\n",
       "    <tr>\n",
       "      <td>1</td>\n",
       "      <td>2010</td>\n",
       "      <td>6</td>\n",
       "      <td>1</td>\n",
       "      <td>10</td>\n",
       "      <td>52</td>\n",
       "      <td>9.03</td>\n",
       "      <td>22.7</td>\n",
       "      <td>-1.44</td>\n",
       "      <td>-94</td>\n",
       "      <td>1</td>\n",
       "      <td>0.0</td>\n",
       "      <td>0.000699</td>\n",
       "    </tr>\n",
       "    <tr>\n",
       "      <td>2</td>\n",
       "      <td>2010</td>\n",
       "      <td>6</td>\n",
       "      <td>1</td>\n",
       "      <td>10</td>\n",
       "      <td>53</td>\n",
       "      <td>9.02</td>\n",
       "      <td>22.7</td>\n",
       "      <td>-1.45</td>\n",
       "      <td>-95</td>\n",
       "      <td>1</td>\n",
       "      <td>0.0</td>\n",
       "      <td>0.000786</td>\n",
       "    </tr>\n",
       "    <tr>\n",
       "      <td>3</td>\n",
       "      <td>2010</td>\n",
       "      <td>6</td>\n",
       "      <td>1</td>\n",
       "      <td>10</td>\n",
       "      <td>54</td>\n",
       "      <td>9.06</td>\n",
       "      <td>22.71</td>\n",
       "      <td>-1.46</td>\n",
       "      <td>-93</td>\n",
       "      <td>1</td>\n",
       "      <td>0.0</td>\n",
       "      <td>0.000748</td>\n",
       "    </tr>\n",
       "    <tr>\n",
       "      <td>4</td>\n",
       "      <td>2010</td>\n",
       "      <td>6</td>\n",
       "      <td>1</td>\n",
       "      <td>10</td>\n",
       "      <td>55</td>\n",
       "      <td>8.95</td>\n",
       "      <td>22.72</td>\n",
       "      <td>-1.48</td>\n",
       "      <td>-96</td>\n",
       "      <td>1</td>\n",
       "      <td>0.0</td>\n",
       "      <td>0.000933</td>\n",
       "    </tr>\n",
       "  </tbody>\n",
       "</table>\n",
       "</div>"
      ],
      "text/plain": [
       "   year  month  day  hour  minute     L    MLT  MLAT  AL Index  KP Index  \\\n",
       "0  2010      6    1    10      51  9.13  22.69 -1.43       -92         1   \n",
       "1  2010      6    1    10      52  9.03   22.7 -1.44       -94         1   \n",
       "2  2010      6    1    10      53  9.02   22.7 -1.45       -95         1   \n",
       "3  2010      6    1    10      54  9.06  22.71 -1.46       -93         1   \n",
       "4  2010      6    1    10      55  8.95  22.72 -1.48       -96         1   \n",
       "\n",
       "   Satellite Flag         B  \n",
       "0             0.0  0.000765  \n",
       "1             0.0  0.000699  \n",
       "2             0.0  0.000786  \n",
       "3             0.0  0.000748  \n",
       "4             0.0  0.000933  "
      ]
     },
     "execution_count": 3,
     "metadata": {},
     "output_type": "execute_result"
    }
   ],
   "source": [
    "#Adding column names to dataframe\n",
    "\n",
    "df.columns = ['year', 'month', 'day', 'hour', 'minute', 'L', 'MLT', 'MLAT', 'AL Index', 'KP Index', 'Satellite Flag', 'B']\n",
    "\n",
    "df.head()"
   ]
  },
  {
   "cell_type": "code",
   "execution_count": 4,
   "metadata": {},
   "outputs": [
    {
     "name": "stdout",
     "output_type": "stream",
     "text": [
      "Colunm Name :  year\n",
      "Column Contents :  [2010 2010 2010 ... 2018 2018 2018]\n",
      "Unique Values : [2010 2011 2012 2013 2014 2015 2016 2017 2018]\n",
      "\n",
      "\n",
      "\n",
      "Colunm Name :  month\n",
      "Column Contents :  [6 6 6 ... 2 2 2]\n",
      "Unique Values : [ 6  7  8  9 10 11 12  1  2  3  4  5]\n",
      "\n",
      "\n",
      "\n",
      "Colunm Name :  day\n",
      "Column Contents :  [ 1  1  1 ... 28 28 28]\n",
      "Unique Values : [ 1  2  3  4  5  6  7 14 25  9 11 16 18 19 20 24 17 10 22 26 28 30 21 27\n",
      " 31 13 23  8 12 15 29]\n",
      "\n",
      "\n",
      "\n",
      "Colunm Name :  hour\n",
      "Column Contents :  [10 10 10 ... 14 14 15]\n",
      "Unique Values : [10 11 12 13 14  9 16 17 18 19 20  8  6 15  5  7 21 22 23  0  1  2  3  4]\n",
      "\n",
      "\n",
      "\n",
      "Colunm Name :  minute\n",
      "Column Contents :  [51 52 53 ... 58 59  0]\n",
      "Unique Values : [51 52 53 54 55 56 57 58 59  0  1  2  3  4  5  6  7  8  9 10 11 12 13 14\n",
      " 15 16 17 18 19 20 21 22 23 24 25 26 27 28 29 30 31 32 33 34 35 36 37 38\n",
      " 39 40 41 42 43 44 45 46 47 48 49 50]\n",
      "\n",
      "\n",
      "\n",
      "Colunm Name :  L\n",
      "Column Contents :  [9.13 9.03 9.02 ... 9.96 9.92 9.98]\n",
      "Unique Values : [ 9.13  9.03  9.02  9.06  8.95  8.93  8.9   8.87  8.86  8.82  8.79  8.75\n",
      "  8.7   8.71  8.65  8.63  8.61  8.59  8.54  8.51  8.49  8.43  8.4   8.36\n",
      "  8.31  8.33  8.27  8.24  8.19  8.15  8.12  8.05  8.06  8.04  7.99  7.95\n",
      "  7.93  7.9   7.88  7.86  7.83  7.81  7.78  7.73  7.74  7.71  7.65  7.62\n",
      "  7.6   7.59  7.55  7.54  7.49  7.47  7.48  7.39  7.4   7.43  7.33  7.31\n",
      "  7.34  7.27  7.28  7.22  7.24  7.2   7.17  7.14  7.15  7.11  7.07  7.06\n",
      "  6.99  7.03  6.97  6.92  6.95  6.89  6.85  6.86  6.83  6.82  6.78  6.72\n",
      "  6.74  6.68  6.66  6.64  6.63  6.62  6.56  6.57  6.5   6.51  6.46  6.45\n",
      "  6.44  6.41  6.4   6.38  6.33  6.32  6.26  6.25  6.22  6.17  6.19  6.15\n",
      "  6.13  6.08  6.1   6.06  6.02  6.01  5.97  5.94  5.89  5.86  5.83  5.82\n",
      "  5.81  5.78  5.74  5.72  5.7   5.69  5.66  5.65  5.61  5.6   5.57  5.55\n",
      "  5.51  5.48  5.46  5.42  5.41  5.39  5.38  5.36  5.32  5.31  5.27  5.26\n",
      "  5.21  5.22  5.2   5.16  5.13  5.1   5.06  5.04  5.01  4.98  4.94  4.93\n",
      "  4.89  4.88  4.84  4.83  4.79  4.77  4.75  4.73  4.69  4.68  4.66  4.64\n",
      "  4.6   4.59  4.53  4.55  4.5   4.49  4.44  4.41  4.37  4.35  4.32  4.3\n",
      "  4.28  4.24  4.21  9.05  8.96  8.84  8.83  8.73  8.67  8.64  8.6   8.56\n",
      "  8.5   8.47  8.44  8.41  8.37  8.35  8.26  8.29  8.18  8.13  8.08  8.\n",
      "  7.98  7.94  7.87  7.84  7.8   7.76  7.69  7.64  7.63  7.57  7.52  7.51\n",
      "  7.46  7.45  7.41  7.3   7.23  7.19  7.09  7.01  6.94  6.9   6.88  6.87\n",
      "  6.81  6.77  6.75  6.67  6.59  6.54  6.52  6.49  6.48  6.47  6.42  6.28\n",
      "  6.27  6.23  6.18  6.2   6.11  6.07  6.04  6.05  5.92  5.87  5.85  5.73\n",
      "  5.67  5.64  5.59  5.56  5.52  5.49  5.44  5.43  5.4   5.35  5.34  5.29\n",
      "  5.24  5.17  5.15  5.11  5.08  5.05  5.03  4.99  4.95  4.92  4.86  4.82\n",
      "  4.74  4.72  4.7   4.67  4.65  4.61  4.57  8.89  8.8   8.74  8.72  8.69\n",
      "  8.55  8.52  8.48  8.46  8.25  8.21  8.1   8.09  7.77  7.79  7.75  7.7\n",
      "  7.58  7.5   7.42  7.36  7.18  7.12  7.05  7.04  6.96  6.91  6.76  6.73\n",
      "  6.7   6.71  6.61  6.58  6.39  6.35  6.29  6.3   6.24  6.14  5.99  5.95\n",
      "  5.93  5.9   5.88  5.84  5.77  5.75  5.68  5.53  5.3   5.28  5.23  5.18\n",
      "  5.12  5.09  5.02  5.    4.96  4.91  4.87  4.81  4.78  4.71  4.63  4.56\n",
      "  4.52  4.48  4.47  4.43  4.42  4.38  4.36  4.34  4.29  4.25  4.23  4.2\n",
      "  4.17  4.16  4.13  4.1   4.07  4.05  4.01  4.    3.96  3.93  3.92  3.88\n",
      "  3.86  8.97  8.94  8.85  8.77  8.66  8.58  8.3   8.22  8.07  8.03  8.01\n",
      "  7.92  7.91  7.89  7.82  7.72  7.35  7.29  7.32  7.25  7.1   7.13  7.08\n",
      "  6.98  6.93  6.69  6.65  6.43  6.36  6.31  6.12  5.96  5.79  5.71  5.63\n",
      "  5.58  5.54  5.45  5.25  4.97  4.8   4.76  4.46  4.22  4.19  4.15  4.02\n",
      "  3.94  3.91  3.87  8.78  8.62  8.45  8.14  8.02  7.66  7.    6.84  6.8\n",
      "  6.6   6.53  6.34  6.09  6.03  5.8   5.47  4.85  4.54  4.51  4.4   4.39\n",
      "  4.26  9.01  8.99  8.88  8.76  8.17  8.16  7.85  7.67  7.68  7.44  7.37\n",
      "  6.79  6.55  6.37  6.16  5.98  5.91  5.37  5.19  5.14  4.33  8.98  8.68\n",
      "  8.53  8.42  8.38  7.97  7.96  5.5   5.33  4.9   9.29  9.21  9.19  9.18\n",
      "  9.11  9.08  9.07  9.04  8.91  8.81  8.34  8.28  8.11  7.53  7.26  7.16\n",
      "  6.    5.62  8.23  7.61  7.38  6.21  7.21  8.2   8.57  8.39  7.56  7.02\n",
      "  8.32  5.76  8.92  9.09  9.1   9.15  9.14  9.16  9.17  9.23  9.2   9.24\n",
      "  9.26  9.28  9.31  9.3   9.33  9.36  9.34  9.35  9.4   9.32  9.38  9.39\n",
      "  9.    9.12  9.22  9.27  9.43  9.44  9.41  9.46  9.48  9.25  9.37  9.45\n",
      "  9.49  9.5   9.56  9.53  9.6   9.51  9.61  9.59  9.63  9.64  9.62  9.67\n",
      "  9.66  9.65  9.69  9.71  9.72  9.7   9.75  9.78  9.79  9.77  9.8   9.74\n",
      "  9.82  9.84  9.86  9.76  9.87  9.9   9.85  9.83  9.89  9.88  9.92  9.95\n",
      "  9.91  9.52  9.42  9.54  9.47  9.55  9.57  9.68  9.73  9.81  9.58  5.07\n",
      "  3.22  3.24  3.08  3.11  3.14  3.17  3.21  3.26  3.3   3.33  3.36  3.39\n",
      "  3.42  3.46  3.49  3.52  3.54  3.58  3.61  3.63  3.67  3.7   3.73  3.76\n",
      "  3.78  3.81  3.85  3.9   3.98  4.11  4.62  9.97  9.94  4.58 10.    9.98\n",
      "  9.93 10.1   9.99  4.45  4.18  4.27  4.14  3.97  3.83  3.8   3.75  3.71\n",
      "  3.68  3.66  3.62  4.08  4.03  3.99  3.95  3.77  3.65  3.38  3.34  3.32\n",
      "  3.28  3.18  3.16  3.12  3.02  2.99  2.95  2.92  4.06  3.79  4.12  3.89\n",
      "  3.6   4.31  4.09  3.82  9.96  3.84  3.72  3.57  3.55  3.51  3.48  3.45\n",
      "  3.74  3.69  3.64  3.59  3.53  3.5   3.47  3.43  3.4   3.37  4.04  3.56\n",
      "  3.27  3.41  3.35  3.31  3.15  3.25  3.19  3.23  3.2   3.1   3.07  2.96\n",
      "  2.93  3.44  2.97  2.94  3.01  3.06  3.04  3.29  3.03  3.    3.05  3.09\n",
      "  2.98  3.13 10.2  10.3  10.4 ]\n",
      "\n",
      "\n",
      "\n",
      "Colunm Name :  MLT\n",
      "Column Contents :  [22.69 22.7 22.7 ... '23.45' '23.46' '23.46']\n",
      "Unique Values : [22.69 22.7 22.71 ... '22.85-12.11' '22.86-12.11' '22.87-12.10']\n",
      "\n",
      "\n",
      "\n",
      "Colunm Name :  MLAT\n",
      "Column Contents :  [-1.43 -1.44 -1.45 ... -8.85 -8.85 -8.86]\n",
      "Unique Values : [  -1.43   -1.44   -1.45 ... -919.   -929.     23.  ]\n",
      "\n",
      "\n",
      "\n",
      "Colunm Name :  AL Index\n",
      "Column Contents :  [ -92  -94  -95 ... -100 -111 -120]\n",
      "Unique Values : [  -92   -94   -95 ... -1140 -1236 -1168]\n",
      "\n",
      "\n",
      "\n",
      "Colunm Name :  KP Index\n",
      "Column Contents :  [1 1 1 ... 2 2 1]\n",
      "Unique Values : [1 2 3 0 4 5 6 7 8]\n",
      "\n",
      "\n",
      "\n",
      "Colunm Name :  Satellite Flag\n",
      "Column Contents :  [0. 0. 0. ... 2. 2. 2.]\n",
      "Unique Values : [0.    1.    2.    ... 0.17  0.085 0.263]\n",
      "\n",
      "\n",
      "\n",
      "Colunm Name :  B\n",
      "Column Contents :  [0.000765 0.000699 0.000786 ... 0.00107  0.00105  0.00107 ]\n",
      "Unique Values : [0.000765 0.000699 0.000786 ... 0.282    0.402    0.306   ]\n",
      "\n",
      "\n",
      "\n"
     ]
    }
   ],
   "source": [
    "#Getting information about the data\n",
    "\n",
    "for (columnName, columnData) in df.iteritems():\n",
    "    print('Colunm Name : ', columnName)\n",
    "    print('Column Contents : ', columnData.values)\n",
    "    print('Unique Values :', columnData.unique())\n",
    "    print(\"\\n\\n\")\n",
    "    "
   ]
  },
  {
   "cell_type": "code",
   "execution_count": 5,
   "metadata": {},
   "outputs": [
    {
     "name": "stdout",
     "output_type": "stream",
     "text": [
      "\n",
      " Null Value counts :\n"
     ]
    },
    {
     "data": {
      "text/plain": [
       "year                   0\n",
       "month                  0\n",
       "day                    0\n",
       "hour                   0\n",
       "minute                 0\n",
       "L                      0\n",
       "MLT                    0\n",
       "MLAT                   0\n",
       "AL Index               0\n",
       "KP Index               0\n",
       "Satellite Flag         0\n",
       "B                 255752\n",
       "dtype: int64"
      ]
     },
     "execution_count": 5,
     "metadata": {},
     "output_type": "execute_result"
    }
   ],
   "source": [
    "#Find missing and NaN values\n",
    "\n",
    "print(\"\\n Null Value counts :\")\n",
    "df.isnull().sum()"
   ]
  },
  {
   "cell_type": "code",
   "execution_count": 6,
   "metadata": {},
   "outputs": [
    {
     "name": "stdout",
     "output_type": "stream",
     "text": [
      "\n",
      " NaN Value counts :\n"
     ]
    },
    {
     "data": {
      "text/plain": [
       "year                   0\n",
       "month                  0\n",
       "day                    0\n",
       "hour                   0\n",
       "minute                 0\n",
       "L                      0\n",
       "MLT                    0\n",
       "MLAT                   0\n",
       "AL Index               0\n",
       "KP Index               0\n",
       "Satellite Flag         0\n",
       "B                 255752\n",
       "dtype: int64"
      ]
     },
     "execution_count": 6,
     "metadata": {},
     "output_type": "execute_result"
    }
   ],
   "source": [
    "print(\"\\n NaN Value counts :\")\n",
    "df.isna().sum()"
   ]
  },
  {
   "cell_type": "code",
   "execution_count": 7,
   "metadata": {},
   "outputs": [
    {
     "name": "stdout",
     "output_type": "stream",
     "text": [
      "         year  month  day  hour  minute     L    MLT  MLAT  AL Index  \\\n",
      "0        2010      6    1    10      51  9.13  22.69 -1.43       -92   \n",
      "1        2010      6    1    10      52  9.03   22.7 -1.44       -94   \n",
      "2        2010      6    1    10      53  9.02   22.7 -1.45       -95   \n",
      "3        2010      6    1    10      54  9.06  22.71 -1.46       -93   \n",
      "4        2010      6    1    10      55  8.95  22.72 -1.48       -96   \n",
      "...       ...    ...  ...   ...     ...   ...    ...   ...       ...   \n",
      "1659509  2018      2   28    14      56  9.87  23.44 -8.84       -94   \n",
      "1659510  2018      2   28    14      57  9.93  23.45 -8.85       -90   \n",
      "1659511  2018      2   28    14      58  9.96  23.45 -8.85      -100   \n",
      "1659512  2018      2   28    14      59  9.92  23.46 -8.85      -111   \n",
      "1659513  2018      2   28    15       0  9.98  23.46 -8.86      -120   \n",
      "\n",
      "         KP Index  Satellite Flag         B  \n",
      "0               1             0.0  0.000765  \n",
      "1               1             0.0  0.000699  \n",
      "2               1             0.0  0.000786  \n",
      "3               1             0.0  0.000748  \n",
      "4               1             0.0  0.000933  \n",
      "...           ...             ...       ...  \n",
      "1659509         2             2.0  0.001020  \n",
      "1659510         2             2.0  0.001040  \n",
      "1659511         2             2.0  0.001070  \n",
      "1659512         2             2.0  0.001050  \n",
      "1659513         1             2.0  0.001070  \n",
      "\n",
      "[1403762 rows x 12 columns]\n"
     ]
    }
   ],
   "source": [
    "#Dropping NaN values\n",
    "df = df.dropna()\n",
    "print(df)"
   ]
  },
  {
   "cell_type": "code",
   "execution_count": 8,
   "metadata": {},
   "outputs": [],
   "source": [
    "# Convert MLT to float\n",
    "\n",
    "df['MLT'] = df['MLT'].astype(float)"
   ]
  },
  {
   "cell_type": "code",
   "execution_count": 9,
   "metadata": {},
   "outputs": [
    {
     "name": "stdout",
     "output_type": "stream",
     "text": [
      "year              2018.000\n",
      "month               12.000\n",
      "day                 31.000\n",
      "hour                23.000\n",
      "minute              59.000\n",
      "L                   10.400\n",
      "MLT                 24.000\n",
      "MLAT                22.520\n",
      "AL Index            67.000\n",
      "KP Index             8.000\n",
      "Satellite Flag       2.000\n",
      "B                    0.486\n",
      "dtype: float64\n"
     ]
    }
   ],
   "source": [
    "# Max values\n",
    "print(df.max())"
   ]
  },
  {
   "cell_type": "code",
   "execution_count": 10,
   "metadata": {},
   "outputs": [
    {
     "name": "stdout",
     "output_type": "stream",
     "text": [
      "year              2010.000000\n",
      "month                1.000000\n",
      "day                  1.000000\n",
      "hour                 0.000000\n",
      "minute               0.000000\n",
      "L                    2.920000\n",
      "MLT                  0.000000\n",
      "MLAT                -9.990000\n",
      "AL Index         -2016.000000\n",
      "KP Index             0.000000\n",
      "Satellite Flag       0.000000\n",
      "B                    0.000121\n",
      "dtype: float64\n"
     ]
    }
   ],
   "source": [
    "# Min values\n",
    "print(df.min())"
   ]
  },
  {
   "cell_type": "code",
   "execution_count": 11,
   "metadata": {},
   "outputs": [
    {
     "name": "stdout",
     "output_type": "stream",
     "text": [
      "\n",
      "Countplot of Year: \n",
      "AxesSubplot(0.125,0.11;0.775x0.77)\n"
     ]
    }
   ],
   "source": [
    "import seaborn as sns\n",
    "\n",
    "print(\"\\nCountplot of Year: \")\n",
    "year_countplot = sns.countplot(x = \"year\", data = df)\n",
    "print(year_countplot)"
   ]
  },
  {
   "cell_type": "code",
   "execution_count": 12,
   "metadata": {},
   "outputs": [
    {
     "name": "stdout",
     "output_type": "stream",
     "text": [
      "\n",
      "Countplot of Month: \n",
      "AxesSubplot(0.125,0.125;0.775x0.755)\n"
     ]
    },
    {
     "data": {
      "image/png": "[encoded data removed]",
      "text/plain": [
       "<Figure size 432x288 with 1 Axes>"
      ]
     },
     "metadata": {
      "needs_background": "light"
     },
     "output_type": "display_data"
    }
   ],
   "source": [
    "print(\"\\nCountplot of Month: \")\n",
    "month_countplot = sns.countplot(x = \"month\", data = df)\n",
    "print(month_countplot)"
   ]
  },
  {
   "cell_type": "code",
   "execution_count": 13,
   "metadata": {},
   "outputs": [],
   "source": [
    "# Converting year + month + day + hour + minute + second to datetime\n",
    "\n",
    "datetime = pd.to_datetime(df[['year', 'month', 'day', 'hour', 'minute']])"
   ]
  },
  {
   "cell_type": "code",
   "execution_count": 14,
   "metadata": {},
   "outputs": [
    {
     "name": "stdout",
     "output_type": "stream",
     "text": [
      "                   datetime  year  month  day  hour  minute     L    MLT  \\\n",
      "0       2010-06-01 10:51:00  2010      6    1    10      51  9.13  22.69   \n",
      "1       2010-06-01 10:52:00  2010      6    1    10      52  9.03  22.70   \n",
      "2       2010-06-01 10:53:00  2010      6    1    10      53  9.02  22.70   \n",
      "3       2010-06-01 10:54:00  2010      6    1    10      54  9.06  22.71   \n",
      "4       2010-06-01 10:55:00  2010      6    1    10      55  8.95  22.72   \n",
      "...                     ...   ...    ...  ...   ...     ...   ...    ...   \n",
      "1659509 2018-02-28 14:56:00  2018      2   28    14      56  9.87  23.44   \n",
      "1659510 2018-02-28 14:57:00  2018      2   28    14      57  9.93  23.45   \n",
      "1659511 2018-02-28 14:58:00  2018      2   28    14      58  9.96  23.45   \n",
      "1659512 2018-02-28 14:59:00  2018      2   28    14      59  9.92  23.46   \n",
      "1659513 2018-02-28 15:00:00  2018      2   28    15       0  9.98  23.46   \n",
      "\n",
      "         MLAT  AL Index  KP Index  Satellite Flag         B  \n",
      "0       -1.43       -92         1             0.0  0.000765  \n",
      "1       -1.44       -94         1             0.0  0.000699  \n",
      "2       -1.45       -95         1             0.0  0.000786  \n",
      "3       -1.46       -93         1             0.0  0.000748  \n",
      "4       -1.48       -96         1             0.0  0.000933  \n",
      "...       ...       ...       ...             ...       ...  \n",
      "1659509 -8.84       -94         2             2.0  0.001020  \n",
      "1659510 -8.85       -90         2             2.0  0.001040  \n",
      "1659511 -8.85      -100         2             2.0  0.001070  \n",
      "1659512 -8.85      -111         2             2.0  0.001050  \n",
      "1659513 -8.86      -120         1             2.0  0.001070  \n",
      "\n",
      "[1403762 rows x 13 columns]\n"
     ]
    }
   ],
   "source": [
    "# Adding datetime column to dataframe\n",
    "\n",
    "df.insert(0, \"datetime\", datetime, True)\n",
    "\n",
    "print(df)"
   ]
  },
  {
   "cell_type": "code",
   "execution_count": 15,
   "metadata": {},
   "outputs": [
    {
     "name": "stdout",
     "output_type": "stream",
     "text": [
      "                   datetime     L    MLT  MLAT         B\n",
      "0       2010-06-01 10:51:00  9.13  22.69 -1.43  0.000765\n",
      "1       2010-06-01 10:52:00  9.03  22.70 -1.44  0.000699\n",
      "2       2010-06-01 10:53:00  9.02  22.70 -1.45  0.000786\n",
      "3       2010-06-01 10:54:00  9.06  22.71 -1.46  0.000748\n",
      "4       2010-06-01 10:55:00  8.95  22.72 -1.48  0.000933\n",
      "...                     ...   ...    ...   ...       ...\n",
      "1659509 2018-02-28 14:56:00  9.87  23.44 -8.84  0.001020\n",
      "1659510 2018-02-28 14:57:00  9.93  23.45 -8.85  0.001040\n",
      "1659511 2018-02-28 14:58:00  9.96  23.45 -8.85  0.001070\n",
      "1659512 2018-02-28 14:59:00  9.92  23.46 -8.85  0.001050\n",
      "1659513 2018-02-28 15:00:00  9.98  23.46 -8.86  0.001070\n",
      "\n",
      "[1403762 rows x 5 columns]\n"
     ]
    }
   ],
   "source": [
    "# Dropping useless columns\n",
    "\n",
    "df = df.drop(['year', 'month', 'day', 'hour', 'minute', 'AL Index', 'KP Index', 'Satellite Flag'], axis=1)\n",
    "print(df)"
   ]
  },
  {
   "cell_type": "code",
   "execution_count": 16,
   "metadata": {},
   "outputs": [
    {
     "data": {
      "image/png": "[encoded data removed]",
      "text/plain": [
       "<Figure size 432x288 with 1 Axes>"
      ]
     },
     "metadata": {
      "needs_background": "light"
     },
     "output_type": "display_data"
    }
   ],
   "source": [
    "import matplotlib.pyplot as plt\n",
    "B_box_plot = plt.boxplot(df['B'])"
   ]
  },
  {
   "cell_type": "code",
   "execution_count": 17,
   "metadata": {},
   "outputs": [
    {
     "name": "stdout",
     "output_type": "stream",
     "text": [
      "1563199    0.000121\n",
      "1297665    0.000136\n",
      "190729     0.000137\n",
      "190780     0.000142\n",
      "1535360    0.000145\n",
      "             ...   \n",
      "1497237    0.453000\n",
      "1563198    0.457000\n",
      "1007664    0.473000\n",
      "1271061    0.479000\n",
      "1037340    0.486000\n",
      "Name: B, Length: 1403762, dtype: float64\n"
     ]
    }
   ],
   "source": [
    "df_sorted = df.sort_values(by = 'B')\n",
    "B_sorted = df_sorted['B']\n",
    "print(B_sorted)"
   ]
  },
  {
   "cell_type": "code",
   "execution_count": 18,
   "metadata": {},
   "outputs": [
    {
     "data": {
      "text/plain": [
       "(array([773., 580., 416., 398., 331., 198., 195., 143., 127., 101.,  78.,\n",
       "         67.,  53.,  55.,  30.,  26.,  27.,  27.,  22.,   7.,  12.,   5.,\n",
       "          6.,  12.,   8.,   9.,   6.,   6.,   3.,   1.,   3.,   7.,   4.,\n",
       "          1.,   3.,   1.,   5.,   2.,   1.,   1.,   1.,   2.,   1.,   1.,\n",
       "          2.,   2.,   0.,   0.,   1.,   2.]),\n",
       " array([0.125  , 0.13222, 0.13944, 0.14666, 0.15388, 0.1611 , 0.16832,\n",
       "        0.17554, 0.18276, 0.18998, 0.1972 , 0.20442, 0.21164, 0.21886,\n",
       "        0.22608, 0.2333 , 0.24052, 0.24774, 0.25496, 0.26218, 0.2694 ,\n",
       "        0.27662, 0.28384, 0.29106, 0.29828, 0.3055 , 0.31272, 0.31994,\n",
       "        0.32716, 0.33438, 0.3416 , 0.34882, 0.35604, 0.36326, 0.37048,\n",
       "        0.3777 , 0.38492, 0.39214, 0.39936, 0.40658, 0.4138 , 0.42102,\n",
       "        0.42824, 0.43546, 0.44268, 0.4499 , 0.45712, 0.46434, 0.47156,\n",
       "        0.47878, 0.486  ]),\n",
       " <a list of 50 Patch objects>)"
      ]
     },
     "execution_count": 18,
     "metadata": {},
     "output_type": "execute_result"
    },
    {
     "data": {
      "image/png": "[encoded data removed]",
      "text/plain": [
       "<Figure size 432x288 with 1 Axes>"
      ]
     },
     "metadata": {
      "needs_background": "light"
     },
     "output_type": "display_data"
    }
   ],
   "source": [
    "plt.hist(B_sorted[1400000:1403762], bins=50)"
   ]
  },
  {
   "cell_type": "code",
   "execution_count": 19,
   "metadata": {},
   "outputs": [],
   "source": [
    "# Now we will split the area defined by L, MLT and MLAT into different regions and run LSTM for each region\n",
    "\n",
    "# For L, the values range from 2-10\n",
    "# For the Earth, L-shells uniquely define regions of particular geophysical interest. \n",
    "# Certain physical phenomena occur in the ionosphere and magnetosphere at characteristic L-shells. \n",
    "# For instance, auroral light displays are most common around L=6, \n",
    "# can reach L=4 during moderate disturbances, and during the most severe geomagnetic storms, may approach L=2. \n",
    "# The Van Allen radiation belts roughly correspond to L=1.5-2.5, and L=4-6. The plasmapause is typically around L=5.\n",
    "\n",
    "# Group 1 : L = 2.0 - 2.5\n",
    "# Group 2 : L = 2.5 - 4.0\n",
    "# Group 3 : L = 4.0 - 6.0\n",
    "# Group 4 : L = 6.0 - 8.0\n",
    "# Group 5 : L = 8.0 - 10.0\n",
    "\n",
    "L_split_points = [(2.5, 4.0), (4.0, 6.0), (4.0, 6.0), (6.0, 8.0), (8.0, 10.0)]"
   ]
  },
  {
   "cell_type": "code",
   "execution_count": 20,
   "metadata": {},
   "outputs": [],
   "source": [
    "# Four Magnetic Local Time (MLT) sectors are considered, leading to four different K-derived MLT sector indices: \n",
    "#   aσDawn     (03–09 MLT), \n",
    "#   aσNoon     (09–15 MLT), \n",
    "#   aσDusk     (15–21 MLT), \n",
    "#   aσMidnight (21–03 MLT) indices. \n",
    "# They cover more than four solar cycles and, thus, allow robust statistical analysis.\n",
    "# Link : https://www.researchgate.net/publication/260329903_The_K-derived_MLT_sector_geomagnetic_indices\n",
    "\n",
    "MLT_split_points = [(3.0, 9.0), (9.0, 15.0), (15.0, 21.0), (21.0, 3.0)]"
   ]
  },
  {
   "cell_type": "code",
   "execution_count": 21,
   "metadata": {},
   "outputs": [],
   "source": [
    "# MLAT Splits\n",
    "\n",
    "MLAT_split_points = [(-10.0, -5.0), (-5.0, 0.0), (0.0, 5.0), (5.0, 10.0), (10.0, 15.0), (15.0, 20.0), (20.0, 25.0)]"
   ]
  },
  {
   "cell_type": "code",
   "execution_count": 22,
   "metadata": {},
   "outputs": [],
   "source": [
    "# Splitting dataframe into many as per sectors\n",
    "\n",
    "Sector_wise_dataframes = []\n",
    "\n",
    "# Iterate over all L splits\n",
    "for L_i, L_j in L_split_points:\n",
    "    # Iterate over all MLT splits\n",
    "    for MLT_i, MLT_j in MLT_split_points:\n",
    "        # Iterate over all MLAT splits\n",
    "        for MLAT_i, MLAT_j in MLAT_split_points:\n",
    "            if(MLT_i <= MLT_j):\n",
    "                temp = df[df.L.between(L_i, L_j) & df.MLT.between(MLT_i, MLT_j) & df.MLAT.between(MLAT_i, MLAT_j)]\n",
    "            else:\n",
    "                # This is to handle the case where MLT values are between 21 and 3, which represents midnight \n",
    "                #(and values circle around)\n",
    "                temp1 = df[df.L.between(L_i, L_j) & (df.MLT > MLT_j) & df.MLAT.between(MLAT_i, MLAT_j)]\n",
    "                temp2 = df[df.L.between(L_i, L_j) & (df.MLT < MLT_i) & df.MLAT.between(MLAT_i, MLAT_j)]\n",
    "                temp = pd.concat([temp1, temp2])\n",
    "\n",
    "            Sector_wise_dataframes.append(temp)"
   ]
  },
  {
   "cell_type": "code",
   "execution_count": 23,
   "metadata": {},
   "outputs": [
    {
     "name": "stdout",
     "output_type": "stream",
     "text": [
      "140\n"
     ]
    }
   ],
   "source": [
    "print(len(Sector_wise_dataframes))"
   ]
  },
  {
   "cell_type": "code",
   "execution_count": 24,
   "metadata": {},
   "outputs": [],
   "source": [
    "from sklearn.preprocessing import MinMaxScaler\n",
    "    \n",
    "\n",
    "# Function enclosing model\n",
    "\n",
    "# Models to try:\n",
    "    # LSTM\n",
    "        #LSTM are sensitive to scale of data, so we apply MinMax scaler\n",
    "    # ARIMA\n",
    "    # ARCH\n",
    "    # VAR\n",
    "\n",
    "# AIC and BIC for model selection.\n",
    "# AIC and BIC help us strike a balance between complexity of model and how effective it is"
   ]
  },
  {
   "cell_type": "code",
   "execution_count": 111,
   "metadata": {},
   "outputs": [
    {
     "name": "stdout",
     "output_type": "stream",
     "text": [
      "Data types in dataframe:\n",
      " datetime    datetime64[ns]\n",
      "B                  float64\n",
      "dtype: object\n"
     ]
    },
    {
     "data": {
      "text/plain": [
       "(array([733773., 734138., 734503., 734869., 735234., 735599., 735964.,\n",
       "        736330.]), <a list of 8 Text xticklabel objects>)"
      ]
     },
     "execution_count": 111,
     "metadata": {},
     "output_type": "execute_result"
    },
    {
     "data": {
      "image/png": "[encoded data removed]",
      "text/plain": [
       "<Figure size 432x288 with 1 Axes>"
      ]
     },
     "metadata": {
      "needs_background": "light"
     },
     "output_type": "display_data"
    }
   ],
   "source": [
    "# Using just 1 dataframe for now\n",
    "\n",
    "df0 = Sector_wise_dataframes[0]\n",
    "\n",
    "# Dropping useless columns\n",
    "df0 = df0.drop(columns=['L', 'MLT', 'MLAT'])\n",
    "\n",
    "# Sorting\n",
    "df0.sort_values(by = ['datetime'])\n",
    "\n",
    "#print(\"Max val in df = \", np.max(df0))\n",
    "#print(\"Min val in df = \", np.min(df0))\n",
    "\n",
    "print(\"Data types in dataframe:\\n\",df0.dtypes)\n",
    "\n",
    "# Plotting data for 1 sector to see if there's a trend\n",
    "plt.plot(df0['datetime'], df0['B'], '.')\n",
    "plt.xticks(rotation='vertical')"
   ]
  },
  {
   "cell_type": "code",
   "execution_count": 121,
   "metadata": {},
   "outputs": [
    {
     "data": {
      "text/plain": [
       "(array([734228., 734235., 734242., 734249., 734256., 734258., 734265.,\n",
       "        734272., 734279., 734286.]), <a list of 10 Text xticklabel objects>)"
      ]
     },
     "execution_count": 121,
     "metadata": {},
     "output_type": "execute_result"
    },
    {
     "data": {
      "image/png": "[encoded data removed]",
      "text/plain": [
       "<Figure size 432x288 with 1 Axes>"
      ]
     },
     "metadata": {
      "needs_background": "light"
     },
     "output_type": "display_data"
    }
   ],
   "source": [
    "# There's a ton of missing data, so we pick the 2011 cluster to see if there's a pattern there\n",
    "\n",
    "df0_2011 = df0.loc[(df0['datetime'] >= '2011-01-01 00:00:00') & (df0['datetime'] <= '2012-01-01 00:00:00')]\n",
    "df0_2011.tail()\n",
    "\n",
    "plt.plot(df0_2011['datetime'], df0_2011['B'], '.')\n",
    "plt.xticks(rotation='vertical')"
   ]
  },
  {
   "cell_type": "code",
   "execution_count": null,
   "metadata": {},
   "outputs": [],
   "source": [
    "# There's still a ton of missing data, probably because there's only 3 satellites taking measurements, \n",
    "# and since they are revolving around the earth, they move from sector to sector. So for each sector,\n",
    "# we get a cluster of measurements, and then nothing.\n",
    "\n",
    "# Maybe it's a better idea to pick satellite based data and try and predict the next measurement?\n",
    "\n",
    "# SEE Satellite_based_analysis.ipynb!!!!!\n"
   ]
  },
  {
   "cell_type": "code",
   "execution_count": 92,
   "metadata": {},
   "outputs": [],
   "source": [
    "# Scaling\n",
    "scaler = MinMaxScaler(feature_range=(0,1))\n",
    "df = scaler.fit_transform(np.array(df0['B']).reshape(-1,1)) #The reshape converts the row of values into array with several rows with 1 value each\n",
    "\n",
    "#Train test split\n",
    "training_size = 0.7\n",
    "training_row_limit = int(training_size*df.shape[0])\n",
    "sections = np.split(df, indices_or_sections = [training_row_limit], axis = 0)\n",
    "train = sections[0]\n",
    "test = sections[1]\n",
    "\n",
    "# HyperParameters\n",
    "# Timesteps is how many previous observations we are dependent on\n",
    "time_step = 100\n",
    "\n",
    "def create_dataset(dataset, time_step):\n",
    "    dataX, dataY = [], []\n",
    "    for i in range(len(dataset)-time_step-1):\n",
    "        a = dataset[i:(i+time_step), 0]   ###i=0, 0,1,2,3-----99   100 \n",
    "        dataX.append(dataset[i:(i+time_step), 0])\n",
    "        dataY.append(dataset[i + time_step, 0])\n",
    "    return np.array(dataX), np.array(dataY)\n",
    "\n",
    "X_train, y_train = create_dataset(train, time_step)\n",
    "X_test, ytest = create_dataset(test, time_step)"
   ]
  },
  {
   "cell_type": "code",
   "execution_count": 81,
   "metadata": {},
   "outputs": [],
   "source": [
    "# reshape input to be [samples, time steps, features] which is required for LSTM\n",
    "X_train_reshaped =X_train.reshape(X_train.shape[0],X_train.shape[1] , 1)\n",
    "X_test_reshaped = X_test.reshape(X_test.shape[0],X_test.shape[1] , 1)"
   ]
  },
  {
   "cell_type": "code",
   "execution_count": 82,
   "metadata": {},
   "outputs": [],
   "source": [
    "### Create the Stacked LSTM model\n",
    "from tensorflow.keras.models import Sequential\n",
    "from tensorflow.keras.layers import Dense\n",
    "from tensorflow.keras.layers import LSTM"
   ]
  },
  {
   "cell_type": "code",
   "execution_count": 83,
   "metadata": {},
   "outputs": [],
   "source": [
    "model=Sequential()\n",
    "model.add(LSTM(50,return_sequences=True,input_shape=(time_step,1)))\n",
    "model.add(LSTM(50,return_sequences=True))\n",
    "model.add(LSTM(50))\n",
    "model.add(Dense(1))\n",
    "model.compile(loss='mean_squared_error',optimizer='adam')"
   ]
  },
  {
   "cell_type": "code",
   "execution_count": 84,
   "metadata": {},
   "outputs": [
    {
     "name": "stdout",
     "output_type": "stream",
     "text": [
      "_________________________________________________________________\n",
      "Layer (type)                 Output Shape              Param #   \n",
      "=================================================================\n",
      "lstm_6 (LSTM)                (None, 100, 50)           10400     \n",
      "_________________________________________________________________\n",
      "lstm_7 (LSTM)                (None, 100, 50)           20200     \n",
      "_________________________________________________________________\n",
      "lstm_8 (LSTM)                (None, 50)                20200     \n",
      "_________________________________________________________________\n",
      "dense_2 (Dense)              (None, 1)                 51        \n",
      "=================================================================\n",
      "Total params: 50,851\n",
      "Trainable params: 50,851\n",
      "Non-trainable params: 0\n",
      "_________________________________________________________________\n"
     ]
    }
   ],
   "source": [
    "model.summary()"
   ]
  },
  {
   "cell_type": "code",
   "execution_count": 85,
   "metadata": {},
   "outputs": [
    {
     "name": "stdout",
     "output_type": "stream",
     "text": [
      "Train on 469 samples, validate on 144 samples\n",
      "Epoch 1/100\n",
      "469/469 [==============================] - 6s 12ms/step - loss: 0.0099 - val_loss: 0.0162\n",
      "Epoch 2/100\n",
      "469/469 [==============================] - 2s 5ms/step - loss: 0.0087 - val_loss: 0.0159\n",
      "Epoch 3/100\n",
      "469/469 [==============================] - 2s 5ms/step - loss: 0.0085 - val_loss: 0.0158\n",
      "Epoch 4/100\n",
      "469/469 [==============================] - 2s 5ms/step - loss: 0.0083 - val_loss: 0.0157\n",
      "Epoch 5/100\n",
      "469/469 [==============================] - 2s 5ms/step - loss: 0.0083 - val_loss: 0.0156\n",
      "Epoch 6/100\n",
      "469/469 [==============================] - 2s 5ms/step - loss: 0.0079 - val_loss: 0.0154\n",
      "Epoch 7/100\n",
      "469/469 [==============================] - 2s 5ms/step - loss: 0.0078 - val_loss: 0.0154\n",
      "Epoch 8/100\n",
      "469/469 [==============================] - 2s 5ms/step - loss: 0.0075 - val_loss: 0.0153\n",
      "Epoch 9/100\n",
      "469/469 [==============================] - 2s 5ms/step - loss: 0.0074 - val_loss: 0.0151\n",
      "Epoch 10/100\n",
      "469/469 [==============================] - 2s 5ms/step - loss: 0.0073 - val_loss: 0.0152\n",
      "Epoch 11/100\n",
      "469/469 [==============================] - 2s 5ms/step - loss: 0.0072 - val_loss: 0.0150\n",
      "Epoch 12/100\n",
      "469/469 [==============================] - 2s 5ms/step - loss: 0.0071 - val_loss: 0.0149\n",
      "Epoch 13/100\n",
      "469/469 [==============================] - 2s 5ms/step - loss: 0.0069 - val_loss: 0.0148\n",
      "Epoch 14/100\n",
      "469/469 [==============================] - 2s 5ms/step - loss: 0.0071 - val_loss: 0.0144\n",
      "Epoch 15/100\n",
      "469/469 [==============================] - 2s 5ms/step - loss: 0.0067 - val_loss: 0.0144\n",
      "Epoch 16/100\n",
      "469/469 [==============================] - 2s 5ms/step - loss: 0.0065 - val_loss: 0.0148\n",
      "Epoch 17/100\n",
      "469/469 [==============================] - 2s 5ms/step - loss: 0.0065 - val_loss: 0.0142\n",
      "Epoch 18/100\n",
      "469/469 [==============================] - 2s 5ms/step - loss: 0.0064 - val_loss: 0.0139\n",
      "Epoch 19/100\n",
      "469/469 [==============================] - 3s 5ms/step - loss: 0.0062 - val_loss: 0.0139\n",
      "Epoch 20/100\n",
      "469/469 [==============================] - 2s 5ms/step - loss: 0.0062 - val_loss: 0.0137\n",
      "Epoch 21/100\n",
      "469/469 [==============================] - 3s 5ms/step - loss: 0.0060 - val_loss: 0.0134\n",
      "Epoch 22/100\n",
      "469/469 [==============================] - 3s 6ms/step - loss: 0.0059 - val_loss: 0.0135\n",
      "Epoch 23/100\n",
      "469/469 [==============================] - 3s 6ms/step - loss: 0.0058 - val_loss: 0.0132\n",
      "Epoch 24/100\n",
      "469/469 [==============================] - 3s 6ms/step - loss: 0.0058 - val_loss: 0.0131\n",
      "Epoch 25/100\n",
      "469/469 [==============================] - 3s 6ms/step - loss: 0.0058 - val_loss: 0.0128\n",
      "Epoch 26/100\n",
      "469/469 [==============================] - 3s 6ms/step - loss: 0.0056 - val_loss: 0.0129\n",
      "Epoch 27/100\n",
      "469/469 [==============================] - 3s 6ms/step - loss: 0.0056 - val_loss: 0.0129\n",
      "Epoch 28/100\n",
      "469/469 [==============================] - 3s 6ms/step - loss: 0.0055 - val_loss: 0.0128\n",
      "Epoch 29/100\n",
      "469/469 [==============================] - 3s 6ms/step - loss: 0.0054 - val_loss: 0.0126\n",
      "Epoch 30/100\n",
      "469/469 [==============================] - 3s 6ms/step - loss: 0.0054 - val_loss: 0.0128\n",
      "Epoch 31/100\n",
      "469/469 [==============================] - 3s 6ms/step - loss: 0.0054 - val_loss: 0.0126\n",
      "Epoch 32/100\n",
      "469/469 [==============================] - 3s 6ms/step - loss: 0.0053 - val_loss: 0.0126\n",
      "Epoch 33/100\n",
      "469/469 [==============================] - 3s 6ms/step - loss: 0.0051 - val_loss: 0.0128\n",
      "Epoch 34/100\n",
      "469/469 [==============================] - 3s 6ms/step - loss: 0.0051 - val_loss: 0.0128\n",
      "Epoch 35/100\n",
      "469/469 [==============================] - 3s 6ms/step - loss: 0.0051 - val_loss: 0.0130\n",
      "Epoch 36/100\n",
      "469/469 [==============================] - 3s 6ms/step - loss: 0.0050 - val_loss: 0.0130\n",
      "Epoch 37/100\n",
      "469/469 [==============================] - 3s 6ms/step - loss: 0.0050 - val_loss: 0.0132\n",
      "Epoch 38/100\n",
      "469/469 [==============================] - 3s 6ms/step - loss: 0.0049 - val_loss: 0.0134\n",
      "Epoch 39/100\n",
      "469/469 [==============================] - 3s 6ms/step - loss: 0.0049 - val_loss: 0.0137\n",
      "Epoch 40/100\n",
      "469/469 [==============================] - 3s 6ms/step - loss: 0.0049 - val_loss: 0.0139\n",
      "Epoch 41/100\n",
      "469/469 [==============================] - 3s 6ms/step - loss: 0.0049 - val_loss: 0.0143\n",
      "Epoch 42/100\n",
      "469/469 [==============================] - 3s 6ms/step - loss: 0.0048 - val_loss: 0.0144\n",
      "Epoch 43/100\n",
      "469/469 [==============================] - 3s 6ms/step - loss: 0.0048 - val_loss: 0.0146\n",
      "Epoch 44/100\n",
      "469/469 [==============================] - 3s 7ms/step - loss: 0.0049 - val_loss: 0.0145\n",
      "Epoch 45/100\n",
      "469/469 [==============================] - 3s 7ms/step - loss: 0.0049 - val_loss: 0.0149\n",
      "Epoch 46/100\n",
      "469/469 [==============================] - 3s 7ms/step - loss: 0.0049 - val_loss: 0.0152\n",
      "Epoch 47/100\n",
      "469/469 [==============================] - 4s 8ms/step - loss: 0.0048 - val_loss: 0.0150\n",
      "Epoch 48/100\n",
      "469/469 [==============================] - 4s 8ms/step - loss: 0.0048 - val_loss: 0.0156\n",
      "Epoch 49/100\n",
      "469/469 [==============================] - 4s 8ms/step - loss: 0.0048 - val_loss: 0.0154\n",
      "Epoch 50/100\n",
      "469/469 [==============================] - 4s 9ms/step - loss: 0.0048 - val_loss: 0.0156\n",
      "Epoch 51/100\n",
      "469/469 [==============================] - 4s 9ms/step - loss: 0.0048 - val_loss: 0.0154\n",
      "Epoch 52/100\n",
      "469/469 [==============================] - 5s 10ms/step - loss: 0.0048 - val_loss: 0.0153\n",
      "Epoch 53/100\n",
      "469/469 [==============================] - 5s 11ms/step - loss: 0.0048 - val_loss: 0.0151\n",
      "Epoch 54/100\n",
      "469/469 [==============================] - 5s 11ms/step - loss: 0.0048 - val_loss: 0.0151\n",
      "Epoch 55/100\n",
      "469/469 [==============================] - 6s 12ms/step - loss: 0.0048 - val_loss: 0.0152\n",
      "Epoch 56/100\n",
      "469/469 [==============================] - 6s 13ms/step - loss: 0.0049 - val_loss: 0.0157\n",
      "Epoch 57/100\n",
      "469/469 [==============================] - 6s 13ms/step - loss: 0.0048 - val_loss: 0.0152\n",
      "Epoch 58/100\n",
      "469/469 [==============================] - 6s 13ms/step - loss: 0.0048 - val_loss: 0.0155\n",
      "Epoch 59/100\n",
      "469/469 [==============================] - 7s 14ms/step - loss: 0.0048 - val_loss: 0.0156\n",
      "Epoch 60/100\n",
      "469/469 [==============================] - 7s 14ms/step - loss: 0.0048 - val_loss: 0.0161\n",
      "Epoch 61/100\n",
      "469/469 [==============================] - 7s 14ms/step - loss: 0.0049 - val_loss: 0.0161\n",
      "Epoch 62/100\n",
      "469/469 [==============================] - 7s 14ms/step - loss: 0.0048 - val_loss: 0.0161\n",
      "Epoch 63/100\n",
      "469/469 [==============================] - 6s 13ms/step - loss: 0.0047 - val_loss: 0.0157\n",
      "Epoch 64/100\n",
      "469/469 [==============================] - 6s 12ms/step - loss: 0.0048 - val_loss: 0.0158\n",
      "Epoch 65/100\n",
      "469/469 [==============================] - 8s 17ms/step - loss: 0.0047 - val_loss: 0.0160\n",
      "Epoch 66/100\n",
      "469/469 [==============================] - 6s 13ms/step - loss: 0.0047 - val_loss: 0.0160\n",
      "Epoch 67/100\n",
      "469/469 [==============================] - 5s 11ms/step - loss: 0.0047 - val_loss: 0.0159\n",
      "Epoch 68/100\n",
      "469/469 [==============================] - 5s 10ms/step - loss: 0.0047 - val_loss: 0.0160\n",
      "Epoch 69/100\n",
      "469/469 [==============================] - 5s 10ms/step - loss: 0.0047 - val_loss: 0.0160\n",
      "Epoch 70/100\n",
      "469/469 [==============================] - 5s 10ms/step - loss: 0.0047 - val_loss: 0.0160\n",
      "Epoch 71/100\n",
      "469/469 [==============================] - 4s 9ms/step - loss: 0.0049 - val_loss: 0.0161\n",
      "Epoch 72/100\n",
      "469/469 [==============================] - 4s 8ms/step - loss: 0.0047 - val_loss: 0.0162\n",
      "Epoch 73/100\n",
      "469/469 [==============================] - 4s 8ms/step - loss: 0.0047 - val_loss: 0.0164\n",
      "Epoch 74/100\n",
      "469/469 [==============================] - 4s 8ms/step - loss: 0.0047 - val_loss: 0.0162\n",
      "Epoch 75/100\n",
      "469/469 [==============================] - 4s 8ms/step - loss: 0.0048 - val_loss: 0.0164\n",
      "Epoch 76/100\n",
      "469/469 [==============================] - 5s 11ms/step - loss: 0.0049 - val_loss: 0.0162\n",
      "Epoch 77/100\n",
      "469/469 [==============================] - 5s 10ms/step - loss: 0.0047 - val_loss: 0.0163\n",
      "Epoch 78/100\n",
      "469/469 [==============================] - 4s 9ms/step - loss: 0.0047 - val_loss: 0.0164\n",
      "Epoch 79/100\n",
      "469/469 [==============================] - 6s 13ms/step - loss: 0.0047 - val_loss: 0.0167\n",
      "Epoch 80/100\n",
      "469/469 [==============================] - 6s 13ms/step - loss: 0.0047 - val_loss: 0.0170\n",
      "Epoch 81/100\n",
      "469/469 [==============================] - 4s 9ms/step - loss: 0.0047 - val_loss: 0.0168\n",
      "Epoch 82/100\n",
      "469/469 [==============================] - 3s 7ms/step - loss: 0.0047 - val_loss: 0.0169\n",
      "Epoch 83/100\n",
      "469/469 [==============================] - 3s 7ms/step - loss: 0.0047 - val_loss: 0.0169\n",
      "Epoch 84/100\n",
      "469/469 [==============================] - 3s 7ms/step - loss: 0.0047 - val_loss: 0.0174\n",
      "Epoch 85/100\n",
      "469/469 [==============================] - 3s 7ms/step - loss: 0.0047 - val_loss: 0.0170\n",
      "Epoch 86/100\n",
      "469/469 [==============================] - 3s 7ms/step - loss: 0.0047 - val_loss: 0.0170\n",
      "Epoch 87/100\n",
      "469/469 [==============================] - 3s 7ms/step - loss: 0.0047 - val_loss: 0.0171\n",
      "Epoch 88/100\n",
      "469/469 [==============================] - 4s 8ms/step - loss: 0.0047 - val_loss: 0.0184\n",
      "Epoch 89/100\n",
      "469/469 [==============================] - 4s 8ms/step - loss: 0.0047 - val_loss: 0.0181\n",
      "Epoch 90/100\n",
      "469/469 [==============================] - 3s 7ms/step - loss: 0.0046 - val_loss: 0.0179\n",
      "Epoch 91/100\n",
      "469/469 [==============================] - 3s 7ms/step - loss: 0.0046 - val_loss: 0.0178\n",
      "Epoch 92/100\n",
      "469/469 [==============================] - 3s 7ms/step - loss: 0.0046 - val_loss: 0.0177\n",
      "Epoch 93/100\n",
      "469/469 [==============================] - 3s 7ms/step - loss: 0.0046 - val_loss: 0.0175\n",
      "Epoch 94/100\n",
      "469/469 [==============================] - 3s 7ms/step - loss: 0.0046 - val_loss: 0.0181\n",
      "Epoch 95/100\n",
      "469/469 [==============================] - 4s 8ms/step - loss: 0.0046 - val_loss: 0.0183\n",
      "Epoch 96/100\n",
      "469/469 [==============================] - 3s 7ms/step - loss: 0.0046 - val_loss: 0.0190\n",
      "Epoch 97/100\n",
      "469/469 [==============================] - 4s 9ms/step - loss: 0.0046 - val_loss: 0.0192\n",
      "Epoch 98/100\n",
      "469/469 [==============================] - 4s 9ms/step - loss: 0.0046 - val_loss: 0.0183\n",
      "Epoch 99/100\n",
      "469/469 [==============================] - 7s 14ms/step - loss: 0.0046 - val_loss: 0.0182\n",
      "Epoch 100/100\n",
      "469/469 [==============================] - 4s 10ms/step - loss: 0.0046 - val_loss: 0.0182\n"
     ]
    },
    {
     "data": {
      "text/plain": [
       "<tensorflow.python.keras.callbacks.History at 0x7fb1ea218208>"
      ]
     },
     "execution_count": 85,
     "metadata": {},
     "output_type": "execute_result"
    }
   ],
   "source": [
    "model.fit(X_train_reshaped,y_train,validation_data=(X_test_reshaped,ytest),epochs=100,batch_size=64,verbose=1)"
   ]
  },
  {
   "cell_type": "code",
   "execution_count": 86,
   "metadata": {},
   "outputs": [],
   "source": [
    "### Lets Do the prediction and check performance metrics\n",
    "train_predict=model.predict(X_train_reshaped)\n",
    "test_predict=model.predict(X_test_reshaped)\n",
    "\n",
    "##Transformback to original form, reverse the effect of scaling\n",
    "train_predict_unscaled = scaler.inverse_transform(train_predict)\n",
    "test_predict_unscaled = scaler.inverse_transform(test_predict)\n",
    "y_train_unscaled = scaler.inverse_transform(np.array(y_train).reshape(-1,1))\n",
    "ytest_unscaled = scaler.inverse_transform(np.array(ytest).reshape(-1,1))"
   ]
  },
  {
   "cell_type": "code",
   "execution_count": 87,
   "metadata": {},
   "outputs": [
    {
     "name": "stdout",
     "output_type": "stream",
     "text": [
      "Training data RMSE:  0.0018630647113388498\n",
      "Testing data RMSE:  0.0037145273888825295\n"
     ]
    }
   ],
   "source": [
    "### Calculate RMSE performance metrics. RMSE on training data gives a benchmark to compare against.\n",
    "import math\n",
    "from sklearn.metrics import mean_squared_error\n",
    "training_RMSE = math.sqrt(mean_squared_error(y_train_unscaled, train_predict_unscaled))\n",
    "print(\"Training data RMSE: \", training_RMSE)\n",
    "\n",
    "### Test Data RMSE\n",
    "test_RMSE = math.sqrt(mean_squared_error(ytest_unscaled, test_predict_unscaled))\n",
    "print(\"Testing data RMSE: \", test_RMSE)"
   ]
  },
  {
   "cell_type": "code",
   "execution_count": 88,
   "metadata": {},
   "outputs": [
    {
     "data": {
      "image/png": "[encoded data removed]",
      "text/plain": [
       "<Figure size 432x288 with 1 Axes>"
      ]
     },
     "metadata": {
      "needs_background": "light"
     },
     "output_type": "display_data"
    }
   ],
   "source": [
    "### Plotting \n",
    "# shift train predictions for plotting\n",
    "look_back = time_step\n",
    "trainPredictPlot = np.empty_like(df)\n",
    "trainPredictPlot[:, :] = np.nan\n",
    "trainPredictPlot[look_back:len(train_predict_unscaled)+look_back, :] = train_predict_unscaled\n",
    "\n",
    "# shift test predictions for plotting\n",
    "testPredictPlot = np.empty_like(df)\n",
    "testPredictPlot[:, :] = np.nan\n",
    "testPredictPlot[len(train_predict_unscaled)+(look_back*2)+1:len(df)-1, :] = test_predict_unscaled\n",
    "\n",
    "# plot baseline and predictions\n",
    "plt.plot(scaler.inverse_transform(df))\n",
    "plt.plot(trainPredictPlot)\n",
    "plt.plot(testPredictPlot)\n",
    "plt.show()"
   ]
  },
  {
   "cell_type": "code",
   "execution_count": 99,
   "metadata": {},
   "outputs": [
    {
     "data": {
      "text/html": [
       "<div>\n",
       "<style scoped>\n",
       "    .dataframe tbody tr th:only-of-type {\n",
       "        vertical-align: middle;\n",
       "    }\n",
       "\n",
       "    .dataframe tbody tr th {\n",
       "        vertical-align: top;\n",
       "    }\n",
       "\n",
       "    .dataframe thead th {\n",
       "        text-align: right;\n",
       "    }\n",
       "</style>\n",
       "<table border=\"1\" class=\"dataframe\">\n",
       "  <thead>\n",
       "    <tr style=\"text-align: right;\">\n",
       "      <th></th>\n",
       "      <th>datetime</th>\n",
       "      <th>B</th>\n",
       "    </tr>\n",
       "  </thead>\n",
       "  <tbody>\n",
       "    <tr>\n",
       "      <td>1550383</td>\n",
       "      <td>2017-08-18 19:00:00</td>\n",
       "      <td>0.00434</td>\n",
       "    </tr>\n",
       "    <tr>\n",
       "      <td>1564536</td>\n",
       "      <td>2017-09-01 21:40:00</td>\n",
       "      <td>0.00229</td>\n",
       "    </tr>\n",
       "    <tr>\n",
       "      <td>1564537</td>\n",
       "      <td>2017-09-01 21:41:00</td>\n",
       "      <td>0.00178</td>\n",
       "    </tr>\n",
       "    <tr>\n",
       "      <td>1564538</td>\n",
       "      <td>2017-09-01 21:42:00</td>\n",
       "      <td>0.00210</td>\n",
       "    </tr>\n",
       "    <tr>\n",
       "      <td>1564539</td>\n",
       "      <td>2017-09-01 21:43:00</td>\n",
       "      <td>0.00365</td>\n",
       "    </tr>\n",
       "  </tbody>\n",
       "</table>\n",
       "</div>"
      ],
      "text/plain": [
       "                   datetime        B\n",
       "1550383 2017-08-18 19:00:00  0.00434\n",
       "1564536 2017-09-01 21:40:00  0.00229\n",
       "1564537 2017-09-01 21:41:00  0.00178\n",
       "1564538 2017-09-01 21:42:00  0.00210\n",
       "1564539 2017-09-01 21:43:00  0.00365"
      ]
     },
     "execution_count": 99,
     "metadata": {},
     "output_type": "execute_result"
    }
   ],
   "source": [
    "#ARIMA\n",
    "\n",
    "df0.head()\n",
    "df0.tail()"
   ]
  },
  {
   "cell_type": "code",
   "execution_count": null,
   "metadata": {},
   "outputs": [],
   "source": []
  }
 ],
 "metadata": {
  "kernelspec": {
   "display_name": "Python 3",
   "language": "python",
   "name": "python3"
  },
  "language_info": {
   "codemirror_mode": {
    "name": "ipython",
    "version": 3
   },
   "file_extension": ".py",
   "mimetype": "text/x-python",
   "name": "python",
   "nbconvert_exporter": "python",
   "pygments_lexer": "ipython3",
   "version": "3.6.8"
  }
 },
 "nbformat": 4,
 "nbformat_minor": 4
}

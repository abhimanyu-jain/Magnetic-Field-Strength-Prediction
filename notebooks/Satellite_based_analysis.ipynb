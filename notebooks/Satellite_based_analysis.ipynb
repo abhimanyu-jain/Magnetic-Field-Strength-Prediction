{
 "cells": [
  {
   "cell_type": "code",
   "execution_count": 1,
   "metadata": {},
   "outputs": [],
   "source": [
    "import pandas as pd\n",
    "from sklearn.model_selection import train_test_split\n",
    "import numpy as np\n",
    "import matplotlib.pyplot as plt"
   ]
  },
  {
   "cell_type": "code",
   "execution_count": 2,
   "metadata": {},
   "outputs": [
    {
     "name": "stderr",
     "output_type": "stream",
     "text": [
      "/Library/Frameworks/Python.framework/Versions/3.6/lib/python3.6/site-packages/IPython/core/interactiveshell.py:3058: DtypeWarning: Columns (6) have mixed types. Specify dtype option on import or set low_memory=False.\n",
      "  interactivity=interactivity, compiler=compiler, result=result)\n"
     ]
    },
    {
     "data": {
      "text/html": [
       "<div>\n",
       "<style scoped>\n",
       "    .dataframe tbody tr th:only-of-type {\n",
       "        vertical-align: middle;\n",
       "    }\n",
       "\n",
       "    .dataframe tbody tr th {\n",
       "        vertical-align: top;\n",
       "    }\n",
       "\n",
       "    .dataframe thead th {\n",
       "        text-align: right;\n",
       "    }\n",
       "</style>\n",
       "<table border=\"1\" class=\"dataframe\">\n",
       "  <thead>\n",
       "    <tr style=\"text-align: right;\">\n",
       "      <th></th>\n",
       "      <th>datetime</th>\n",
       "      <th>L</th>\n",
       "      <th>MLT</th>\n",
       "      <th>MLAT</th>\n",
       "      <th>Satellite Flag</th>\n",
       "      <th>B</th>\n",
       "    </tr>\n",
       "  </thead>\n",
       "  <tbody>\n",
       "    <tr>\n",
       "      <td>0</td>\n",
       "      <td>2010-06-01 10:51:00</td>\n",
       "      <td>9.13</td>\n",
       "      <td>22.69</td>\n",
       "      <td>-1.43</td>\n",
       "      <td>0.0</td>\n",
       "      <td>0.000765</td>\n",
       "    </tr>\n",
       "    <tr>\n",
       "      <td>1</td>\n",
       "      <td>2010-06-01 10:52:00</td>\n",
       "      <td>9.03</td>\n",
       "      <td>22.7</td>\n",
       "      <td>-1.44</td>\n",
       "      <td>0.0</td>\n",
       "      <td>0.000699</td>\n",
       "    </tr>\n",
       "    <tr>\n",
       "      <td>2</td>\n",
       "      <td>2010-06-01 10:53:00</td>\n",
       "      <td>9.02</td>\n",
       "      <td>22.7</td>\n",
       "      <td>-1.45</td>\n",
       "      <td>0.0</td>\n",
       "      <td>0.000786</td>\n",
       "    </tr>\n",
       "    <tr>\n",
       "      <td>3</td>\n",
       "      <td>2010-06-01 10:54:00</td>\n",
       "      <td>9.06</td>\n",
       "      <td>22.71</td>\n",
       "      <td>-1.46</td>\n",
       "      <td>0.0</td>\n",
       "      <td>0.000748</td>\n",
       "    </tr>\n",
       "    <tr>\n",
       "      <td>4</td>\n",
       "      <td>2010-06-01 10:55:00</td>\n",
       "      <td>8.95</td>\n",
       "      <td>22.72</td>\n",
       "      <td>-1.48</td>\n",
       "      <td>0.0</td>\n",
       "      <td>0.000933</td>\n",
       "    </tr>\n",
       "  </tbody>\n",
       "</table>\n",
       "</div>"
      ],
      "text/plain": [
       "             datetime     L    MLT  MLAT  Satellite Flag         B\n",
       "0 2010-06-01 10:51:00  9.13  22.69 -1.43             0.0  0.000765\n",
       "1 2010-06-01 10:52:00  9.03   22.7 -1.44             0.0  0.000699\n",
       "2 2010-06-01 10:53:00  9.02   22.7 -1.45             0.0  0.000786\n",
       "3 2010-06-01 10:54:00  9.06  22.71 -1.46             0.0  0.000748\n",
       "4 2010-06-01 10:55:00  8.95  22.72 -1.48             0.0  0.000933"
      ]
     },
     "execution_count": 2,
     "metadata": {},
     "output_type": "execute_result"
    }
   ],
   "source": [
    "#Importing data into dataframe\n",
    "df = pd.read_csv('../data/raw/fff_Bw_1min.dat', delim_whitespace=True)\n",
    "\n",
    "#Adding column names to dataframe\n",
    "df.columns = ['year', 'month', 'day', 'hour', 'minute', \n",
    "              'L', 'MLT', 'MLAT', 'AL Index', \n",
    "              'KP Index', 'Satellite Flag', 'B']\n",
    "\n",
    "# Converting year + month + day + hour + minute + second to datetime\n",
    "datetime = pd.to_datetime(df[['year', 'month', 'day', 'hour', 'minute']])\n",
    "\n",
    "# Adding datetime column to dataframe\n",
    "df.insert(0, \"datetime\", datetime, True)\n",
    "\n",
    "# Dropping useless columns\n",
    "df = df.drop(['year', 'month', 'day', 'hour', 'minute', 'AL Index', 'KP Index'], axis=1)\n",
    "\n",
    "df.head()"
   ]
  },
  {
   "cell_type": "code",
   "execution_count": 3,
   "metadata": {},
   "outputs": [
    {
     "data": {
      "text/plain": [
       "0.000000    482881\n",
       "1.000000    461864\n",
       "2.000000    459017\n",
       "0.001010      2519\n",
       "0.001040      2455\n",
       "             ...  \n",
       "0.169000         1\n",
       "0.236000         1\n",
       "0.000566         1\n",
       "0.088200         1\n",
       "0.278000         1\n",
       "Name: Satellite Flag, Length: 2334, dtype: int64"
      ]
     },
     "execution_count": 3,
     "metadata": {},
     "output_type": "execute_result"
    }
   ],
   "source": [
    "df['Satellite Flag'].value_counts()"
   ]
  },
  {
   "cell_type": "code",
   "execution_count": 4,
   "metadata": {},
   "outputs": [
    {
     "data": {
      "text/plain": [
       "0    738633\n",
       "1    461864\n",
       "2    459017\n",
       "Name: Satellite Flag, dtype: int64"
      ]
     },
     "execution_count": 4,
     "metadata": {},
     "output_type": "execute_result"
    }
   ],
   "source": [
    "# Converting satellite flag values to int\n",
    "df['Satellite Flag'] = df['Satellite Flag'].astype(int)\n",
    "df['Satellite Flag'].value_counts()"
   ]
  },
  {
   "cell_type": "code",
   "execution_count": 5,
   "metadata": {},
   "outputs": [
    {
     "data": {
      "text/html": [
       "<div>\n",
       "<style scoped>\n",
       "    .dataframe tbody tr th:only-of-type {\n",
       "        vertical-align: middle;\n",
       "    }\n",
       "\n",
       "    .dataframe tbody tr th {\n",
       "        vertical-align: top;\n",
       "    }\n",
       "\n",
       "    .dataframe thead th {\n",
       "        text-align: right;\n",
       "    }\n",
       "</style>\n",
       "<table border=\"1\" class=\"dataframe\">\n",
       "  <thead>\n",
       "    <tr style=\"text-align: right;\">\n",
       "      <th></th>\n",
       "      <th>datetime</th>\n",
       "      <th>L</th>\n",
       "      <th>MLT</th>\n",
       "      <th>MLAT</th>\n",
       "      <th>Satellite Flag</th>\n",
       "      <th>B</th>\n",
       "    </tr>\n",
       "  </thead>\n",
       "  <tbody>\n",
       "    <tr>\n",
       "      <td>1659252</td>\n",
       "      <td>2018-02-28 14:39:00</td>\n",
       "      <td>9.80</td>\n",
       "      <td>22.85-12.11</td>\n",
       "      <td>-185.0</td>\n",
       "      <td>0</td>\n",
       "      <td>NaN</td>\n",
       "    </tr>\n",
       "    <tr>\n",
       "      <td>1659253</td>\n",
       "      <td>2018-02-28 14:40:00</td>\n",
       "      <td>9.89</td>\n",
       "      <td>22.86-12.11</td>\n",
       "      <td>-196.0</td>\n",
       "      <td>0</td>\n",
       "      <td>NaN</td>\n",
       "    </tr>\n",
       "    <tr>\n",
       "      <td>1659254</td>\n",
       "      <td>2018-02-28 14:41:00</td>\n",
       "      <td>9.88</td>\n",
       "      <td>22.86-12.11</td>\n",
       "      <td>-204.0</td>\n",
       "      <td>0</td>\n",
       "      <td>NaN</td>\n",
       "    </tr>\n",
       "    <tr>\n",
       "      <td>1659255</td>\n",
       "      <td>2018-02-28 14:42:00</td>\n",
       "      <td>9.91</td>\n",
       "      <td>22.87-12.10</td>\n",
       "      <td>-197.0</td>\n",
       "      <td>0</td>\n",
       "      <td>NaN</td>\n",
       "    </tr>\n",
       "    <tr>\n",
       "      <td>1659256</td>\n",
       "      <td>2018-02-28 14:43:00</td>\n",
       "      <td>9.94</td>\n",
       "      <td>22.87-12.10</td>\n",
       "      <td>-177.0</td>\n",
       "      <td>0</td>\n",
       "      <td>NaN</td>\n",
       "    </tr>\n",
       "  </tbody>\n",
       "</table>\n",
       "</div>"
      ],
      "text/plain": [
       "                   datetime     L          MLT   MLAT  Satellite Flag   B\n",
       "1659252 2018-02-28 14:39:00  9.80  22.85-12.11 -185.0               0 NaN\n",
       "1659253 2018-02-28 14:40:00  9.89  22.86-12.11 -196.0               0 NaN\n",
       "1659254 2018-02-28 14:41:00  9.88  22.86-12.11 -204.0               0 NaN\n",
       "1659255 2018-02-28 14:42:00  9.91  22.87-12.10 -197.0               0 NaN\n",
       "1659256 2018-02-28 14:43:00  9.94  22.87-12.10 -177.0               0 NaN"
      ]
     },
     "execution_count": 5,
     "metadata": {},
     "output_type": "execute_result"
    }
   ],
   "source": [
    "df_sat0 = df.loc[(df['Satellite Flag'] == 0)]\n",
    "df_sat0.tail()"
   ]
  },
  {
   "cell_type": "code",
   "execution_count": 6,
   "metadata": {},
   "outputs": [
    {
     "data": {
      "text/plain": [
       "0    738633\n",
       "Name: Satellite Flag, dtype: int64"
      ]
     },
     "execution_count": 6,
     "metadata": {},
     "output_type": "execute_result"
    }
   ],
   "source": [
    "df_sat0['Satellite Flag'].value_counts()"
   ]
  },
  {
   "cell_type": "code",
   "execution_count": 7,
   "metadata": {},
   "outputs": [],
   "source": [
    "df_sat0_sorted = df_sat0.sort_values(by = 'datetime')"
   ]
  },
  {
   "cell_type": "code",
   "execution_count": 8,
   "metadata": {},
   "outputs": [
    {
     "name": "stderr",
     "output_type": "stream",
     "text": [
      "/Library/Frameworks/Python.framework/Versions/3.6/lib/python3.6/site-packages/pandas/plotting/_matplotlib/converter.py:103: FutureWarning: Using an implicitly registered datetime converter for a matplotlib plotting method. The converter was registered by pandas on import. Future versions of pandas will require you to explicitly register matplotlib converters.\n",
      "\n",
      "To register the converters:\n",
      "\t>>> from pandas.plotting import register_matplotlib_converters\n",
      "\t>>> register_matplotlib_converters()\n",
      "  warnings.warn(msg, FutureWarning)\n"
     ]
    },
    {
     "data": {
      "text/plain": [
       "(array([733773., 734138., 734503., 734869., 735234., 735599., 735964.,\n",
       "        736330., 736695.]), <a list of 9 Text xticklabel objects>)"
      ]
     },
     "execution_count": 8,
     "metadata": {},
     "output_type": "execute_result"
    },
    {
     "data": {
      "image/png": "[encoded data removed]",
      "text/plain": [
       "<Figure size 432x288 with 1 Axes>"
      ]
     },
     "metadata": {
      "needs_background": "light"
     },
     "output_type": "display_data"
    }
   ],
   "source": [
    "# Plotting data for 1 satellite to see if there is a trend\n",
    "plt.plot(df_sat0_sorted['datetime'], df_sat0_sorted['B'])\n",
    "plt.xticks(rotation='vertical')"
   ]
  },
  {
   "cell_type": "code",
   "execution_count": 9,
   "metadata": {},
   "outputs": [
    {
     "data": {
      "text/plain": [
       "0 days 00:01:00    643432\n",
       "0 days 00:00:00     83976\n",
       "0 days 00:02:00      3394\n",
       "0 days 00:03:00      1405\n",
       "0 days 00:04:00       700\n",
       "                    ...  \n",
       "3 days 02:23:00         1\n",
       "1 days 19:32:00         1\n",
       "0 days 15:30:00         1\n",
       "0 days 17:05:00         1\n",
       "0 days 02:14:00         1\n",
       "Name: datetime_diff, Length: 1526, dtype: int64"
      ]
     },
     "execution_count": 9,
     "metadata": {},
     "output_type": "execute_result"
    }
   ],
   "source": [
    "# Check if measurements are being taken every minute or not\n",
    "df_sat0_sorted['datetime_diff'] = df_sat0_sorted['datetime'].diff()\n",
    "df_sat0_sorted.head()\n",
    "#pd.set_option('display.max_rows', df_sat0_sorted.shape[0]+1)\n",
    "df_sat0_sorted['datetime_diff'].value_counts()"
   ]
  },
  {
   "cell_type": "code",
   "execution_count": 10,
   "metadata": {},
   "outputs": [
    {
     "data": {
      "text/plain": [
       "Timedelta('2829 days 03:52:00')"
      ]
     },
     "execution_count": 10,
     "metadata": {},
     "output_type": "execute_result"
    }
   ],
   "source": [
    "# Total missing time\n",
    "df_sat0_sorted['datetime_diff'].sum()"
   ]
  },
  {
   "cell_type": "code",
   "execution_count": 11,
   "metadata": {},
   "outputs": [
    {
     "name": "stdout",
     "output_type": "stream",
     "text": [
      "6.526499238964993\n"
     ]
    }
   ],
   "source": [
    "print((2829 - 643432/(24*60))/365)"
   ]
  },
  {
   "cell_type": "code",
   "execution_count": 12,
   "metadata": {},
   "outputs": [],
   "source": [
    "# So assuming time step of 1 minute, out of 7.5 years, basically 6.5 years worth of data is missing!!!!\n",
    "# Maybe we can use a bigger time step!!\n",
    "\n",
    "#set a timestep\n",
    "\n"
   ]
  },
  {
   "cell_type": "code",
   "execution_count": 13,
   "metadata": {},
   "outputs": [
    {
     "name": "stdout",
     "output_type": "stream",
     "text": [
      "Old dataframe size = 5170431\n",
      "New dataframe size = 24443958\n"
     ]
    }
   ],
   "source": [
    "# Clearly there is missing data, we can use some technique to fill it\n",
    "# Insert missing rows\n",
    "# Set datetime as the index with frequency of 1 minute\n",
    "# Dropping duplicates\n",
    "df_sat0_sorted_1 = df_sat0_sorted[~df_sat0_sorted.datetime.duplicated()]\n",
    "df_sat0_sorted_1 = df_sat0_sorted_1.set_index('datetime').asfreq('1Min')\n",
    "print(\"Old dataframe size =\", df_sat0_sorted.size)\n",
    "print(\"New dataframe size =\", df_sat0_sorted_1.size)"
   ]
  },
  {
   "cell_type": "code",
   "execution_count": 14,
   "metadata": {},
   "outputs": [
    {
     "data": {
      "text/plain": [
       "[<matplotlib.lines.Line2D at 0x7ff1f86ccef0>]"
      ]
     },
     "execution_count": 14,
     "metadata": {},
     "output_type": "execute_result"
    },
    {
     "data": {
      "image/png": "[encoded data removed]",
      "text/plain": [
       "<Figure size 432x288 with 1 Axes>"
      ]
     },
     "metadata": {
      "needs_background": "light"
     },
     "output_type": "display_data"
    }
   ],
   "source": [
    "# Plotting data again\n",
    "plt.plot(df_sat0_sorted_1['B'])"
   ]
  },
  {
   "cell_type": "code",
   "execution_count": 15,
   "metadata": {},
   "outputs": [],
   "source": [
    "# Run LSTM/ARIMA/ARCH/VAR\n"
   ]
  },
  {
   "cell_type": "code",
   "execution_count": null,
   "metadata": {},
   "outputs": [],
   "source": []
  }
 ],
 "metadata": {
  "kernelspec": {
   "display_name": "Python 3",
   "language": "python",
   "name": "python3"
  },
  "language_info": {
   "codemirror_mode": {
    "name": "ipython",
    "version": 3
   },
   "file_extension": ".py",
   "mimetype": "text/x-python",
   "name": "python",
   "nbconvert_exporter": "python",
   "pygments_lexer": "ipython3",
   "version": "3.6.8"
  }
 },
 "nbformat": 4,
 "nbformat_minor": 4
}
